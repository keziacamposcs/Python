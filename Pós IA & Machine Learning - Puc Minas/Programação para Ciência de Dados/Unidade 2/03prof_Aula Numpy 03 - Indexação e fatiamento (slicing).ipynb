{
 "cells": [
  {
   "cell_type": "code",
   "execution_count": null,
   "metadata": {},
   "outputs": [],
   "source": []
  },
  {
   "cell_type": "markdown",
   "metadata": {},
   "source": [
    "# Indexação e fatiamento (slicing)"
   ]
  },
  {
   "cell_type": "code",
   "execution_count": 1,
   "metadata": {},
   "outputs": [],
   "source": [
    "# Importando o NumPy\n",
    "import numpy as np"
   ]
  },
  {
   "cell_type": "code",
   "execution_count": 2,
   "metadata": {},
   "outputs": [
    {
     "data": {
      "text/plain": [
       "array([2, 4, 6, 9, 4, 9, 9, 7, 1, 0])"
      ]
     },
     "execution_count": 2,
     "metadata": {},
     "output_type": "execute_result"
    }
   ],
   "source": [
    "# Cria um ndarray com 10 elementos entre 0 e 9\n",
    "a1D = np.random.randint(0, 10, 10)\n",
    "a1D"
   ]
  },
  {
   "cell_type": "code",
   "execution_count": 3,
   "metadata": {},
   "outputs": [
    {
     "data": {
      "text/plain": [
       "array([[25, 68, 22, 96, 12],\n",
       "       [91, 18, 78, 55, 85],\n",
       "       [ 3, 86, 19, 89, 82],\n",
       "       [94, 72, 16, 28,  8]])"
      ]
     },
     "execution_count": 3,
     "metadata": {},
     "output_type": "execute_result"
    }
   ],
   "source": [
    "a2D = np.random.randint(1, 101, (4,5)) # Cria um ndarray de 4 linhas x 5 colunas com elementos entre 1 e 100\n",
    "a2D"
   ]
  },
  {
   "cell_type": "code",
   "execution_count": 4,
   "metadata": {},
   "outputs": [
    {
     "data": {
      "text/plain": [
       "array([[[0.19254205, 0.45548783, 0.4725366 , 0.3065606 , 0.19561022],\n",
       "        [0.64127077, 0.73451694, 0.01025758, 0.94644315, 0.35692135],\n",
       "        [0.65056049, 0.13727646, 0.48845472, 0.20357684, 0.88234549],\n",
       "        [0.24093581, 0.59843891, 0.06897965, 0.67785655, 0.83693134]],\n",
       "\n",
       "       [[0.01974483, 0.57075148, 0.45833746, 0.38330706, 0.63464139],\n",
       "        [0.16993047, 0.40380959, 0.14405884, 0.27100803, 0.03312798],\n",
       "        [0.71596009, 0.41356747, 0.39484439, 0.09694846, 0.4720984 ],\n",
       "        [0.63173861, 0.69951018, 0.54251538, 0.9357349 , 0.37115272]],\n",
       "\n",
       "       [[0.3556189 , 0.97879272, 0.01130518, 0.6427356 , 0.9495012 ],\n",
       "        [0.26232016, 0.42904554, 0.86790985, 0.60749239, 0.69284557],\n",
       "        [0.75032731, 0.94804839, 0.02059647, 0.20131378, 0.02662821],\n",
       "        [0.24300478, 0.80855126, 0.81603048, 0.27200913, 0.55191011]]])"
      ]
     },
     "execution_count": 4,
     "metadata": {},
     "output_type": "execute_result"
    }
   ],
   "source": [
    "a3D = np.random.random((3,4,5)) # Cria um ndarray de 3 páginas x 4 linhas x 5 colunas com elementos entre 0 e 1\n",
    "a3D"
   ]
  },
  {
   "cell_type": "markdown",
   "metadata": {},
   "source": [
    "### Acessando elementos específicos"
   ]
  },
  {
   "cell_type": "code",
   "execution_count": 5,
   "metadata": {},
   "outputs": [
    {
     "data": {
      "text/plain": [
       "array([2, 4, 6, 9, 4, 9, 9, 7, 1, 0])"
      ]
     },
     "execution_count": 5,
     "metadata": {},
     "output_type": "execute_result"
    }
   ],
   "source": [
    "# Acessando elementos de um ndarray de 1 dimensão\n",
    "a1D"
   ]
  },
  {
   "cell_type": "code",
   "execution_count": 6,
   "metadata": {},
   "outputs": [
    {
     "data": {
      "text/plain": [
       "2"
      ]
     },
     "execution_count": 6,
     "metadata": {},
     "output_type": "execute_result"
    }
   ],
   "source": [
    "# nome_do_array[índice]\n",
    "a1D[0]"
   ]
  },
  {
   "cell_type": "code",
   "execution_count": 7,
   "metadata": {},
   "outputs": [
    {
     "data": {
      "text/plain": [
       "6"
      ]
     },
     "execution_count": 7,
     "metadata": {},
     "output_type": "execute_result"
    }
   ],
   "source": [
    "a1D[2]"
   ]
  },
  {
   "cell_type": "code",
   "execution_count": 8,
   "metadata": {},
   "outputs": [
    {
     "data": {
      "text/plain": [
       "0"
      ]
     },
     "execution_count": 8,
     "metadata": {},
     "output_type": "execute_result"
    }
   ],
   "source": [
    "a1D[-1]"
   ]
  },
  {
   "cell_type": "code",
   "execution_count": 9,
   "metadata": {},
   "outputs": [
    {
     "data": {
      "text/plain": [
       "array([9, 2, 0])"
      ]
     },
     "execution_count": 9,
     "metadata": {},
     "output_type": "execute_result"
    }
   ],
   "source": [
    "indices = [3, 0, -1] # Definindo uma lista com os índices que se deseja acessar\n",
    "a1D[indices]"
   ]
  },
  {
   "cell_type": "code",
   "execution_count": 10,
   "metadata": {},
   "outputs": [
    {
     "data": {
      "text/plain": [
       "array([[25, 68, 22, 96, 12],\n",
       "       [91, 18, 78, 55, 85],\n",
       "       [ 3, 86, 19, 89, 82],\n",
       "       [94, 72, 16, 28,  8]])"
      ]
     },
     "execution_count": 10,
     "metadata": {},
     "output_type": "execute_result"
    }
   ],
   "source": [
    "# Acessando elementos de um ndarray de 2 dimensões\n",
    "a2D"
   ]
  },
  {
   "cell_type": "code",
   "execution_count": 11,
   "metadata": {},
   "outputs": [
    {
     "data": {
      "text/plain": [
       "78"
      ]
     },
     "execution_count": 11,
     "metadata": {},
     "output_type": "execute_result"
    }
   ],
   "source": [
    "# nome_da_matriz[linha][coluna]\n",
    "a2D[1][2]"
   ]
  },
  {
   "cell_type": "code",
   "execution_count": 12,
   "metadata": {},
   "outputs": [
    {
     "data": {
      "text/plain": [
       "8"
      ]
     },
     "execution_count": 12,
     "metadata": {},
     "output_type": "execute_result"
    }
   ],
   "source": [
    "a2D[3][4]"
   ]
  },
  {
   "cell_type": "code",
   "execution_count": 13,
   "metadata": {},
   "outputs": [
    {
     "data": {
      "text/plain": [
       "array([25, 18, 19, 28])"
      ]
     },
     "execution_count": 13,
     "metadata": {},
     "output_type": "execute_result"
    }
   ],
   "source": [
    "indice_lin = [0, 1, 2, 3]\n",
    "indice_col = [0, 1, 2, 3]\n",
    "\n",
    "a2D[indice_lin, indice_col]"
   ]
  },
  {
   "cell_type": "code",
   "execution_count": 14,
   "metadata": {},
   "outputs": [
    {
     "data": {
      "text/plain": [
       "array([96, 78, 86, 94])"
      ]
     },
     "execution_count": 14,
     "metadata": {},
     "output_type": "execute_result"
    }
   ],
   "source": [
    "indice_lin = [0, 1, 2, 3]\n",
    "indice_col = [3, 2, 1, 0]\n",
    "\n",
    "a2D[indice_lin, indice_col]"
   ]
  },
  {
   "cell_type": "code",
   "execution_count": 15,
   "metadata": {},
   "outputs": [
    {
     "data": {
      "text/plain": [
       "array([28, 19, 18, 25])"
      ]
     },
     "execution_count": 15,
     "metadata": {},
     "output_type": "execute_result"
    }
   ],
   "source": [
    "indice_lin = [3, 2, 1, 0]\n",
    "indice_col = [3, 2, 1, 0]\n",
    "\n",
    "a2D[indice_lin, indice_col]"
   ]
  },
  {
   "cell_type": "code",
   "execution_count": 16,
   "metadata": {},
   "outputs": [
    {
     "data": {
      "text/plain": [
       "array([[25, 68, 22, 25],\n",
       "       [91, 18, 78, 91],\n",
       "       [ 3, 86, 19,  3],\n",
       "       [94, 72, 16, 94]])"
      ]
     },
     "execution_count": 16,
     "metadata": {},
     "output_type": "execute_result"
    }
   ],
   "source": [
    "a2D[:,[0,1,2,0]] "
   ]
  },
  {
   "cell_type": "code",
   "execution_count": 17,
   "metadata": {},
   "outputs": [
    {
     "data": {
      "text/plain": [
       "array([[91, 18, 78, 91],\n",
       "       [25, 68, 22, 25],\n",
       "       [91, 18, 78, 91],\n",
       "       [25, 68, 22, 25]])"
      ]
     },
     "execution_count": 17,
     "metadata": {},
     "output_type": "execute_result"
    }
   ],
   "source": [
    "a2D[:,[0,1,2,0]][[1, 0, 1, 0]]"
   ]
  },
  {
   "cell_type": "code",
   "execution_count": 18,
   "metadata": {},
   "outputs": [
    {
     "data": {
      "text/plain": [
       "array([[25, 68, 22, 96, 12],\n",
       "       [91, 18, 78, 55, 85],\n",
       "       [ 3, 86, 19, 89, 82],\n",
       "       [94, 72, 16, 28,  8]])"
      ]
     },
     "execution_count": 18,
     "metadata": {},
     "output_type": "execute_result"
    }
   ],
   "source": [
    "a2D"
   ]
  },
  {
   "cell_type": "code",
   "execution_count": 19,
   "metadata": {},
   "outputs": [
    {
     "data": {
      "text/plain": [
       "array([[91, 18, 78, 91],\n",
       "       [25, 68, 22, 25],\n",
       "       [91, 18, 78, 91],\n",
       "       [25, 68, 22, 25]])"
      ]
     },
     "execution_count": 19,
     "metadata": {},
     "output_type": "execute_result"
    }
   ],
   "source": [
    "a2D[[1, 0, 1, 0]][:,[0,1,2,0]] "
   ]
  },
  {
   "cell_type": "code",
   "execution_count": 20,
   "metadata": {},
   "outputs": [
    {
     "data": {
      "text/plain": [
       "array([[[0.19254205, 0.45548783, 0.4725366 , 0.3065606 , 0.19561022],\n",
       "        [0.64127077, 0.73451694, 0.01025758, 0.94644315, 0.35692135],\n",
       "        [0.65056049, 0.13727646, 0.48845472, 0.20357684, 0.88234549],\n",
       "        [0.24093581, 0.59843891, 0.06897965, 0.67785655, 0.83693134]],\n",
       "\n",
       "       [[0.01974483, 0.57075148, 0.45833746, 0.38330706, 0.63464139],\n",
       "        [0.16993047, 0.40380959, 0.14405884, 0.27100803, 0.03312798],\n",
       "        [0.71596009, 0.41356747, 0.39484439, 0.09694846, 0.4720984 ],\n",
       "        [0.63173861, 0.69951018, 0.54251538, 0.9357349 , 0.37115272]],\n",
       "\n",
       "       [[0.3556189 , 0.97879272, 0.01130518, 0.6427356 , 0.9495012 ],\n",
       "        [0.26232016, 0.42904554, 0.86790985, 0.60749239, 0.69284557],\n",
       "        [0.75032731, 0.94804839, 0.02059647, 0.20131378, 0.02662821],\n",
       "        [0.24300478, 0.80855126, 0.81603048, 0.27200913, 0.55191011]]])"
      ]
     },
     "execution_count": 20,
     "metadata": {},
     "output_type": "execute_result"
    }
   ],
   "source": [
    "# Acessando elementos de um ndarray de 3 dimensões\n",
    "a3D"
   ]
  },
  {
   "cell_type": "code",
   "execution_count": 21,
   "metadata": {},
   "outputs": [
    {
     "data": {
      "text/plain": [
       "0.6427356040256711"
      ]
     },
     "execution_count": 21,
     "metadata": {},
     "output_type": "execute_result"
    }
   ],
   "source": [
    "# nome_do_cubo[página][linha][coluna]\n",
    "a3D[2][0][3]"
   ]
  },
  {
   "cell_type": "code",
   "execution_count": 22,
   "metadata": {},
   "outputs": [
    {
     "data": {
      "text/plain": [
       "0.5984389069496984"
      ]
     },
     "execution_count": 22,
     "metadata": {},
     "output_type": "execute_result"
    }
   ],
   "source": [
    "a3D[0][3][1]"
   ]
  },
  {
   "cell_type": "markdown",
   "metadata": {},
   "source": [
    "### Fatiamento (slicing)"
   ]
  },
  {
   "cell_type": "code",
   "execution_count": 23,
   "metadata": {},
   "outputs": [
    {
     "data": {
      "text/plain": [
       "array([2, 4, 6, 9, 4, 9, 9, 7, 1, 0])"
      ]
     },
     "execution_count": 23,
     "metadata": {},
     "output_type": "execute_result"
    }
   ],
   "source": [
    "# Array de 1 dimensão\n",
    "a1D"
   ]
  },
  {
   "cell_type": "code",
   "execution_count": 24,
   "metadata": {},
   "outputs": [
    {
     "data": {
      "text/plain": [
       "array([4, 6, 9, 4])"
      ]
     },
     "execution_count": 24,
     "metadata": {},
     "output_type": "execute_result"
    }
   ],
   "source": [
    "a = a1D[1:5] # Índice 1 ao 4\n",
    "a"
   ]
  },
  {
   "cell_type": "code",
   "execution_count": 25,
   "metadata": {},
   "outputs": [
    {
     "data": {
      "text/plain": [
       "array([2, 4, 6, 9, 4, 9])"
      ]
     },
     "execution_count": 25,
     "metadata": {},
     "output_type": "execute_result"
    }
   ],
   "source": [
    "b = a1D[0:6] # Índice 0 ao 5\n",
    "b"
   ]
  },
  {
   "cell_type": "code",
   "execution_count": 26,
   "metadata": {},
   "outputs": [
    {
     "data": {
      "text/plain": [
       "array([2, 4, 6, 9, 4, 9])"
      ]
     },
     "execution_count": 26,
     "metadata": {},
     "output_type": "execute_result"
    }
   ],
   "source": [
    "c = a1D[:6] # Do início ao 5\n",
    "c"
   ]
  },
  {
   "cell_type": "code",
   "execution_count": 27,
   "metadata": {},
   "outputs": [
    {
     "data": {
      "text/plain": [
       "array([2, 6, 4, 9, 1])"
      ]
     },
     "execution_count": 27,
     "metadata": {},
     "output_type": "execute_result"
    }
   ],
   "source": [
    "d = a1D[::2] # Do início ao fim, com passo 2\n",
    "d"
   ]
  },
  {
   "cell_type": "code",
   "execution_count": 28,
   "metadata": {},
   "outputs": [
    {
     "data": {
      "text/plain": [
       "array([0, 1, 7, 9, 9, 4, 9, 6, 4, 2])"
      ]
     },
     "execution_count": 28,
     "metadata": {},
     "output_type": "execute_result"
    }
   ],
   "source": [
    "e = a1D[-1::-1] # Do final até o início\n",
    "e"
   ]
  },
  {
   "cell_type": "code",
   "execution_count": 29,
   "metadata": {},
   "outputs": [
    {
     "data": {
      "text/plain": [
       "array([[25, 68, 22, 96, 12],\n",
       "       [91, 18, 78, 55, 85],\n",
       "       [ 3, 86, 19, 89, 82],\n",
       "       [94, 72, 16, 28,  8]])"
      ]
     },
     "execution_count": 29,
     "metadata": {},
     "output_type": "execute_result"
    }
   ],
   "source": [
    "# Array de 2 dimensões\n",
    "a2D"
   ]
  },
  {
   "cell_type": "code",
   "execution_count": 30,
   "metadata": {},
   "outputs": [
    {
     "data": {
      "text/plain": [
       "array([25, 68, 22, 96, 12])"
      ]
     },
     "execution_count": 30,
     "metadata": {},
     "output_type": "execute_result"
    }
   ],
   "source": [
    "linha0 = a2D[0] # Todos os elementos da linha 0 - outra forma seria: linha0 = a2D[0,:]\n",
    "linha0"
   ]
  },
  {
   "cell_type": "code",
   "execution_count": 31,
   "metadata": {},
   "outputs": [
    {
     "data": {
      "text/plain": [
       "array([91, 18, 78, 55, 85])"
      ]
     },
     "execution_count": 31,
     "metadata": {},
     "output_type": "execute_result"
    }
   ],
   "source": [
    "linha1 = a2D[1,:] # Todos os elementos da linha 1\n",
    "linha1"
   ]
  },
  {
   "cell_type": "code",
   "execution_count": 32,
   "metadata": {},
   "outputs": [
    {
     "data": {
      "text/plain": [
       "array([86, 19, 89])"
      ]
     },
     "execution_count": 32,
     "metadata": {},
     "output_type": "execute_result"
    }
   ],
   "source": [
    "linha2 = a2D[2,1:4] # Linha 2, colunas 1, 2 e 3\n",
    "linha2"
   ]
  },
  {
   "cell_type": "code",
   "execution_count": 33,
   "metadata": {},
   "outputs": [
    {
     "data": {
      "text/plain": [
       "array([94, 72, 16, 28,  8])"
      ]
     },
     "execution_count": 33,
     "metadata": {},
     "output_type": "execute_result"
    }
   ],
   "source": [
    "linha3 = a2D[:][3] # a2D[:] retorna toda a matriz, então de toda a matriz queremos a linha 3 a2D[:][3]\n",
    "linha3"
   ]
  },
  {
   "cell_type": "code",
   "execution_count": 34,
   "metadata": {},
   "outputs": [
    {
     "data": {
      "text/plain": [
       "array([22, 78, 19, 16])"
      ]
     },
     "execution_count": 34,
     "metadata": {},
     "output_type": "execute_result"
    }
   ],
   "source": [
    "coluna2 = a2D[:,2] # De todas as linhas, selecionar a coluna 2\n",
    "coluna2"
   ]
  },
  {
   "cell_type": "code",
   "execution_count": 35,
   "metadata": {},
   "outputs": [
    {
     "data": {
      "text/plain": [
       "array([55, 89, 28])"
      ]
     },
     "execution_count": 35,
     "metadata": {},
     "output_type": "execute_result"
    }
   ],
   "source": [
    "coluna3 = a2D[1:,3] # Da linha um até a última, selecionar a coluna 3\n",
    "coluna3"
   ]
  },
  {
   "cell_type": "code",
   "execution_count": 36,
   "metadata": {},
   "outputs": [
    {
     "data": {
      "text/plain": [
       "array([[[0.19254205, 0.45548783, 0.4725366 , 0.3065606 , 0.19561022],\n",
       "        [0.64127077, 0.73451694, 0.01025758, 0.94644315, 0.35692135],\n",
       "        [0.65056049, 0.13727646, 0.48845472, 0.20357684, 0.88234549],\n",
       "        [0.24093581, 0.59843891, 0.06897965, 0.67785655, 0.83693134]],\n",
       "\n",
       "       [[0.01974483, 0.57075148, 0.45833746, 0.38330706, 0.63464139],\n",
       "        [0.16993047, 0.40380959, 0.14405884, 0.27100803, 0.03312798],\n",
       "        [0.71596009, 0.41356747, 0.39484439, 0.09694846, 0.4720984 ],\n",
       "        [0.63173861, 0.69951018, 0.54251538, 0.9357349 , 0.37115272]],\n",
       "\n",
       "       [[0.3556189 , 0.97879272, 0.01130518, 0.6427356 , 0.9495012 ],\n",
       "        [0.26232016, 0.42904554, 0.86790985, 0.60749239, 0.69284557],\n",
       "        [0.75032731, 0.94804839, 0.02059647, 0.20131378, 0.02662821],\n",
       "        [0.24300478, 0.80855126, 0.81603048, 0.27200913, 0.55191011]]])"
      ]
     },
     "execution_count": 36,
     "metadata": {},
     "output_type": "execute_result"
    }
   ],
   "source": [
    "# Array de 3 dimensões\n",
    "a3D"
   ]
  },
  {
   "cell_type": "code",
   "execution_count": 37,
   "metadata": {},
   "outputs": [
    {
     "data": {
      "text/plain": [
       "array([[0.01974483, 0.57075148, 0.45833746, 0.38330706, 0.63464139],\n",
       "       [0.16993047, 0.40380959, 0.14405884, 0.27100803, 0.03312798],\n",
       "       [0.71596009, 0.41356747, 0.39484439, 0.09694846, 0.4720984 ],\n",
       "       [0.63173861, 0.69951018, 0.54251538, 0.9357349 , 0.37115272]])"
      ]
     },
     "execution_count": 37,
     "metadata": {},
     "output_type": "execute_result"
    }
   ],
   "source": [
    "# Acessando a página/face 1\n",
    "face1 = a3D[1]\n",
    "face1"
   ]
  },
  {
   "cell_type": "code",
   "execution_count": 38,
   "metadata": {},
   "outputs": [
    {
     "data": {
      "text/plain": [
       "array([[0.57075148, 0.45833746, 0.38330706],\n",
       "       [0.40380959, 0.14405884, 0.27100803],\n",
       "       [0.41356747, 0.39484439, 0.09694846]])"
      ]
     },
     "execution_count": 38,
     "metadata": {},
     "output_type": "execute_result"
    }
   ],
   "source": [
    "# Acessando uma parte da face1\n",
    "subface1 = a3D[1,0:3, 1:4]\n",
    "subface1"
   ]
  },
  {
   "cell_type": "code",
   "execution_count": 39,
   "metadata": {},
   "outputs": [
    {
     "data": {
      "text/plain": [
       "array([0.65056049, 0.13727646, 0.48845472, 0.20357684, 0.88234549])"
      ]
     },
     "execution_count": 39,
     "metadata": {},
     "output_type": "execute_result"
    }
   ],
   "source": [
    "linha2face0 = a3D[0,2] # outra forma: linha2face0 = a3D[0,2,:]\n",
    "linha2face0"
   ]
  },
  {
   "cell_type": "code",
   "execution_count": 40,
   "metadata": {},
   "outputs": [
    {
     "data": {
      "text/plain": [
       "array([[[0.19254205, 0.45548783, 0.4725366 , 0.3065606 , 0.19561022],\n",
       "        [0.64127077, 0.73451694, 0.01025758, 0.94644315, 0.35692135],\n",
       "        [0.65056049, 0.13727646, 0.48845472, 0.20357684, 0.88234549],\n",
       "        [0.24093581, 0.59843891, 0.06897965, 0.67785655, 0.83693134]],\n",
       "\n",
       "       [[0.01974483, 0.57075148, 0.45833746, 0.38330706, 0.63464139],\n",
       "        [0.16993047, 0.40380959, 0.14405884, 0.27100803, 0.03312798],\n",
       "        [0.71596009, 0.41356747, 0.39484439, 0.09694846, 0.4720984 ],\n",
       "        [0.63173861, 0.69951018, 0.54251538, 0.9357349 , 0.37115272]],\n",
       "\n",
       "       [[0.3556189 , 0.97879272, 0.01130518, 0.6427356 , 0.9495012 ],\n",
       "        [0.26232016, 0.42904554, 0.86790985, 0.60749239, 0.69284557],\n",
       "        [0.75032731, 0.94804839, 0.02059647, 0.20131378, 0.02662821],\n",
       "        [0.24300478, 0.80855126, 0.81603048, 0.27200913, 0.55191011]]])"
      ]
     },
     "execution_count": 40,
     "metadata": {},
     "output_type": "execute_result"
    }
   ],
   "source": [
    "a3D"
   ]
  },
  {
   "cell_type": "code",
   "execution_count": 41,
   "metadata": {},
   "outputs": [
    {
     "data": {
      "text/plain": [
       "array([[0.64127077, 0.73451694, 0.01025758, 0.94644315, 0.35692135],\n",
       "       [0.16993047, 0.40380959, 0.14405884, 0.27100803, 0.03312798],\n",
       "       [0.26232016, 0.42904554, 0.86790985, 0.60749239, 0.69284557]])"
      ]
     },
     "execution_count": 41,
     "metadata": {},
     "output_type": "execute_result"
    }
   ],
   "source": [
    "linha1todasfaces = a3D[:,1] # outra forma: linha1todasfaces = a3D[:,1,:]\n",
    "linha1todasfaces"
   ]
  },
  {
   "cell_type": "code",
   "execution_count": 42,
   "metadata": {},
   "outputs": [
    {
     "data": {
      "text/plain": [
       "array([[0.3065606 , 0.94644315, 0.20357684, 0.67785655],\n",
       "       [0.38330706, 0.27100803, 0.09694846, 0.9357349 ],\n",
       "       [0.6427356 , 0.60749239, 0.20131378, 0.27200913]])"
      ]
     },
     "execution_count": 42,
     "metadata": {},
     "output_type": "execute_result"
    }
   ],
   "source": [
    "coluna3todasfaces = a3D[:,:,3]\n",
    "coluna3todasfaces"
   ]
  },
  {
   "cell_type": "markdown",
   "metadata": {},
   "source": [
    "### Indexação com booleanos"
   ]
  },
  {
   "cell_type": "code",
   "execution_count": 43,
   "metadata": {},
   "outputs": [
    {
     "data": {
      "text/plain": [
       "array([[ 88, 454, 227, 337,  22,  59,  51, 464],\n",
       "       [297, 411,   3,  94, 246, 270, 227, 303],\n",
       "       [ 25, 311, 411, 108, 480,  52, 415, 245],\n",
       "       [217,  52,  78, 355,  84, 411, 176, 425],\n",
       "       [175, 406, 132, 448, 469, 340, 249, 194],\n",
       "       [173,  65, 386,  52, 374, 118, 363,  67],\n",
       "       [318,  50, 304, 112, 336,  35, 100, 368],\n",
       "       [322, 472, 367, 442,  54, 105,  73, 139],\n",
       "       [196, 478,  35, 104,   3, 340,  24,  94],\n",
       "       [490, 387, 473, 203, 120, 228,  55, 495]])"
      ]
     },
     "execution_count": 43,
     "metadata": {},
     "output_type": "execute_result"
    }
   ],
   "source": [
    "a2D = np.random.randint(1, 501, (10, 8)) # Cria um ndarray de 4 linhas x 5 colunas com elementos entre 1 e 100\n",
    "a2D"
   ]
  },
  {
   "cell_type": "code",
   "execution_count": 44,
   "metadata": {},
   "outputs": [
    {
     "data": {
      "text/plain": [
       "array([[False,  True, False,  True, False, False, False,  True],\n",
       "       [ True,  True, False, False, False,  True, False,  True],\n",
       "       [False,  True,  True, False,  True, False,  True, False],\n",
       "       [False, False, False,  True, False,  True, False,  True],\n",
       "       [False,  True, False,  True,  True,  True, False, False],\n",
       "       [False, False,  True, False,  True, False,  True, False],\n",
       "       [ True, False,  True, False,  True, False, False,  True],\n",
       "       [ True,  True,  True,  True, False, False, False, False],\n",
       "       [False,  True, False, False, False,  True, False, False],\n",
       "       [ True,  True,  True, False, False, False, False,  True]])"
      ]
     },
     "execution_count": 44,
     "metadata": {},
     "output_type": "execute_result"
    }
   ],
   "source": [
    "a2D >= 250"
   ]
  },
  {
   "cell_type": "code",
   "execution_count": 45,
   "metadata": {},
   "outputs": [
    {
     "data": {
      "text/plain": [
       "array([454, 337, 464, 297, 411, 270, 303, 311, 411, 480, 415, 355, 411,\n",
       "       425, 406, 448, 469, 340, 386, 374, 363, 318, 304, 336, 368, 322,\n",
       "       472, 367, 442, 478, 340, 490, 387, 473, 495])"
      ]
     },
     "execution_count": 45,
     "metadata": {},
     "output_type": "execute_result"
    }
   ],
   "source": [
    "a2D[a2D >= 250]"
   ]
  },
  {
   "cell_type": "code",
   "execution_count": 46,
   "metadata": {},
   "outputs": [
    {
     "data": {
      "text/plain": [
       "234.1375"
      ]
     },
     "execution_count": 46,
     "metadata": {},
     "output_type": "execute_result"
    }
   ],
   "source": [
    "a2D.mean()"
   ]
  },
  {
   "cell_type": "code",
   "execution_count": 47,
   "metadata": {},
   "outputs": [
    {
     "data": {
      "text/plain": [
       "array([ 88, 227,  22,  59,  51,   3,  94, 227,  25, 108,  52, 217,  52,\n",
       "        78,  84, 176, 175, 132, 194, 173,  65,  52, 118,  67,  50, 112,\n",
       "        35, 100,  54, 105,  73, 139, 196,  35, 104,   3,  24,  94, 203,\n",
       "       120, 228,  55])"
      ]
     },
     "execution_count": 47,
     "metadata": {},
     "output_type": "execute_result"
    }
   ],
   "source": [
    "a2D[a2D <= a2D.mean()]"
   ]
  },
  {
   "cell_type": "code",
   "execution_count": null,
   "metadata": {},
   "outputs": [],
   "source": []
  }
 ],
 "metadata": {
  "kernelspec": {
   "display_name": "Python 3 (ipykernel)",
   "language": "python",
   "name": "python3"
  },
  "language_info": {
   "codemirror_mode": {
    "name": "ipython",
    "version": 3
   },
   "file_extension": ".py",
   "mimetype": "text/x-python",
   "name": "python",
   "nbconvert_exporter": "python",
   "pygments_lexer": "ipython3",
   "version": "3.9.7"
  }
 },
 "nbformat": 4,
 "nbformat_minor": 2
}
