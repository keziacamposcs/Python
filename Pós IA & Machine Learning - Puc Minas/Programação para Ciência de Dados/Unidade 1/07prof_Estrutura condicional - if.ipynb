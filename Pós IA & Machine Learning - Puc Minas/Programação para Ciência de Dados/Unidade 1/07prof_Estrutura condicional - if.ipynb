{
 "cells": [
  {
   "cell_type": "markdown",
   "metadata": {},
   "source": [
    "# Estrutura condicional - comando if\n",
    "\n",
    "#### 1ª forma\n",
    "```\n",
    "if (condição):\n",
    "    bloco_de_comandos\n",
    "```"
   ]
  },
  {
   "cell_type": "code",
   "execution_count": 3,
   "metadata": {},
   "outputs": [],
   "source": [
    "x = int(input(\"Digite o valor de x: \"))\n",
    "y = int(input(\"Digite o valor de y: \"))\n",
    "if x < y:\n",
    "    \n",
    "    nt(\"{} é menor que {}.\".format(x, y))"
   ]
  },
  {
   "cell_type": "markdown",
   "metadata": {},
   "source": [
    "#### 2ª forma\n",
    "```\n",
    "if (condição):\n",
    "    bloco_de_comandos_1\n",
    "else:\n",
    "    bloco_de_comandos_2\n",
    "```"
   ]
  },
  {
   "cell_type": "code",
   "execution_count": 4,
   "metadata": {},
   "outputs": [
    {
     "name": "stdout",
     "output_type": "stream",
     "text": [
      "5 é menor que 6.\n"
     ]
    }
   ],
   "source": [
    "x = int(input(\"Digite o valor de x: \"))\n",
    "y = int(input(\"Digite o valor de y: \"))\n",
    "if x < y:\n",
    "    print(\"{} é menor que {}.\".format(x, y))\n",
    "else:\n",
    "    print(\"{} é maior ou igual a {}.\".format(x, y))"
   ]
  },
  {
   "cell_type": "code",
   "execution_count": 5,
   "metadata": {},
   "outputs": [
    {
     "name": "stdout",
     "output_type": "stream",
     "text": [
      "2 é menor que 5.\n"
     ]
    }
   ],
   "source": [
    "x = int(input(\"Digite o valor de x: \"))\n",
    "y = int(input(\"Digite o valor de y: \"))\n",
    "if x < y:\n",
    "    print(\"{} é menor que {}.\".format(x, y))\n",
    "else:\n",
    "    if x == y:\n",
    "        print(\"{} é igual a {}.\".format(x, y))\n",
    "    else:\n",
    "        print(\"{} é maior que {}.\".format(x, y))"
   ]
  },
  {
   "cell_type": "markdown",
   "metadata": {},
   "source": [
    "#### 3ª forma\n",
    "```\n",
    "if (condição_1):\n",
    "    bloco_de_comandos_1\n",
    "elif (condição_2):\n",
    "    bloco_de_comandos_2\n",
    "...\n",
    "elif (condição_n):\n",
    "    bloco_de_comandos_n\n",
    "```"
   ]
  },
  {
   "cell_type": "code",
   "execution_count": 6,
   "metadata": {},
   "outputs": [
    {
     "name": "stdout",
     "output_type": "stream",
     "text": [
      "5 é maior que 3.\n"
     ]
    }
   ],
   "source": [
    "x = int(input(\"Digite o valor de x: \"))\n",
    "y = int(input(\"Digite o valor de y: \"))\n",
    "if x < y:\n",
    "    print(\"{} é menor que {}.\".format(x, y))\n",
    "elif x == y:\n",
    "    print(\"{} é igual a {}.\".format(x, y))\n",
    "elif x > y:\n",
    "    print(\"{} é maior que {}.\".format(x, y))"
   ]
  },
  {
   "cell_type": "markdown",
   "metadata": {},
   "source": [
    "#### 4ª forma\n",
    "```\n",
    "if (condição_1):\n",
    "    bloco_de_comandos_1\n",
    "elif (condição_2):\n",
    "    bloco_de_comandos_2\n",
    "...\n",
    "elif (condição_n):\n",
    "    bloco_de_comandos_n\n",
    "else:\n",
    "    bloco_de_comandos_else\n",
    "```"
   ]
  },
  {
   "cell_type": "code",
   "execution_count": 7,
   "metadata": {},
   "outputs": [
    {
     "name": "stdout",
     "output_type": "stream",
     "text": [
      "6 é maior que 2.\n"
     ]
    }
   ],
   "source": [
    "x = int(input(\"Digite o valor de x: \"))\n",
    "y = int(input(\"Digite o valor de y: \"))\n",
    "if x < y:\n",
    "    print(\"{} é menor que {}.\".format(x, y))\n",
    "elif x == y:\n",
    "    print(\"{} é igual a {}.\".format(x, y))\n",
    "else:\n",
    "    print(\"{} é maior que {}.\".format(x, y))"
   ]
  }
 ],
 "metadata": {
  "kernelspec": {
   "display_name": "Python 3",
   "language": "python",
   "name": "python3"
  },
  "language_info": {
   "codemirror_mode": {
    "name": "ipython",
    "version": 3
   },
   "file_extension": ".py",
   "mimetype": "text/x-python",
   "name": "python",
   "nbconvert_exporter": "python",
   "pygments_lexer": "ipython3",
   "version": "3.10.4"
  }
 },
 "nbformat": 4,
 "nbformat_minor": 2
}
