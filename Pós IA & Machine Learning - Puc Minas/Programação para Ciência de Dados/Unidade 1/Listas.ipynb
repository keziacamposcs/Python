{
 "cells": [
  {
   "cell_type": "markdown",
   "metadata": {},
   "source": [
    "### Listas"
   ]
  },
  {
   "cell_type": "code",
   "execution_count": 3,
   "metadata": {},
   "outputs": [],
   "source": [
    "# Criando uma lista\n",
    "lista_vazia = []\n",
    "lista_vazia2 = list()"
   ]
  },
  {
   "cell_type": "code",
   "execution_count": 4,
   "metadata": {},
   "outputs": [
    {
     "data": {
      "text/plain": [
       "list"
      ]
     },
     "execution_count": 4,
     "metadata": {},
     "output_type": "execute_result"
    }
   ],
   "source": [
    "# Visualizando o tipo \n",
    "type(lista_vazia2)"
   ]
  },
  {
   "cell_type": "code",
   "execution_count": 5,
   "metadata": {},
   "outputs": [
    {
     "data": {
      "text/plain": [
       "0"
      ]
     },
     "execution_count": 5,
     "metadata": {},
     "output_type": "execute_result"
    }
   ],
   "source": [
    "# Verificando o tamanho da lista\n",
    "len(lista_vazia)"
   ]
  },
  {
   "cell_type": "code",
   "execution_count": 6,
   "metadata": {},
   "outputs": [],
   "source": [
    "#Criando lista com elementos\n",
    "lista = [23, 56, 2, -3, 18, 0, 5]\n",
    "lista_reais = [1.5, -2.13, 5.14]\n",
    "lista_strings = [\"Rodrigo\", \"Python\", \"Puc Minas\", \"Ciencia de dados e Big Data\"]\n",
    "lista_booleanos = [True, True, True, True]\n",
    "lista_misturada = [1, 2, 3.14, \"teste\"]\n",
    "lista_aninhadas = [[1, 2, 3], [4, 5, 6]]"
   ]
  },
  {
   "cell_type": "code",
   "execution_count": 7,
   "metadata": {},
   "outputs": [
    {
     "data": {
      "text/plain": [
       "23"
      ]
     },
     "execution_count": 7,
     "metadata": {},
     "output_type": "execute_result"
    }
   ],
   "source": [
    "#Acessando o indice 0 - primeira posição da lista\n",
    "lista[0]"
   ]
  },
  {
   "cell_type": "code",
   "execution_count": 10,
   "metadata": {},
   "outputs": [
    {
     "data": {
      "text/plain": [
       "'Ciencia de dados e Big Data'"
      ]
     },
     "execution_count": 10,
     "metadata": {},
     "output_type": "execute_result"
    }
   ],
   "source": [
    "lista_strings[3]"
   ]
  },
  {
   "cell_type": "code",
   "execution_count": 9,
   "metadata": {},
   "outputs": [
    {
     "data": {
      "text/plain": [
       "[4, 5, 6]"
      ]
     },
     "execution_count": 9,
     "metadata": {},
     "output_type": "execute_result"
    }
   ],
   "source": [
    "lista_aninhadas[1]"
   ]
  },
  {
   "cell_type": "code",
   "execution_count": 11,
   "metadata": {},
   "outputs": [
    {
     "data": {
      "text/plain": [
       "[23, 56, 2, -3, 18, 0, 5]"
      ]
     },
     "execution_count": 11,
     "metadata": {},
     "output_type": "execute_result"
    }
   ],
   "source": [
    "lista"
   ]
  },
  {
   "cell_type": "code",
   "execution_count": 12,
   "metadata": {},
   "outputs": [],
   "source": [
    "#Alterando conteúdo da lista \n",
    "lista[1]=18"
   ]
  },
  {
   "cell_type": "code",
   "execution_count": 13,
   "metadata": {},
   "outputs": [
    {
     "data": {
      "text/plain": [
       "[23, 18, 2, -3, 18, 0, 5]"
      ]
     },
     "execution_count": 13,
     "metadata": {},
     "output_type": "execute_result"
    }
   ],
   "source": [
    "lista"
   ]
  },
  {
   "cell_type": "markdown",
   "metadata": {},
   "source": [
    "### Principais métodos de um objeto lista\n",
    "\n",
    "Método | Descrição | Exemplo\n",
    ":----- | :-------- | :------\n",
    "append | Adiciona um elemento no final da lista | `lista.append(5)`\n",
    "clear  | Apaga todos os elementos de uma lista | `lista.clear()`\n",
    "copy | Retorna uma cópia dos elementos da lista | `copia = lista.copy()`\n",
    "count | Retorna a quantidade de ocorrências de um elemento na lista | `qt = lista.count(5)`\n",
    "extend | Adiciona os elementos de outra lista passada por parâmetro | `lista.extend(outra_lista)`\n",
    "index | Retorna o índice do elemento passado por parâmetro (primeira posição) | `pos5 = lista.index(5)`\n",
    "insert | Adiciona um elemento em uma posição passada por parâmetro (adiciona no final caso a posição não exista)| `lista.insert(3, \"João\")`\n",
    "pop | Remove o elemento na posição passada por parâmetro (provoca um erro caso a posição não exista)| `elemento = lista.pop(3)`\n",
    "remove | Remove o elemento passado por parâmetro (provoca um erro caso o elemento não exista)| `lista.remove(5)`\n",
    "reverse | Inverte a ordem dos elementos de uma lista | `lista.reverse()`\n",
    "sort | Ordena os objetos de uma lista | `lista.sort()`\n",
    " | | `lista.sort(reverse=True)`"
   ]
  }
 ],
 "metadata": {
  "interpreter": {
   "hash": "b00927611d60d08084d44a7823eaa76fb7340d8e35f4ddf5509cc4cfaa9ace29"
  },
  "kernelspec": {
   "display_name": "Python 3.10.4 64-bit",
   "language": "python",
   "name": "python3"
  },
  "language_info": {
   "codemirror_mode": {
    "name": "ipython",
    "version": 3
   },
   "file_extension": ".py",
   "mimetype": "text/x-python",
   "name": "python",
   "nbconvert_exporter": "python",
   "pygments_lexer": "ipython3",
   "version": "3.10.4"
  },
  "orig_nbformat": 4
 },
 "nbformat": 4,
 "nbformat_minor": 2
}
