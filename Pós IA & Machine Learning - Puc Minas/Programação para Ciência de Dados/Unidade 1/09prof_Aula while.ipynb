{
 "cells": [
  {
   "cell_type": "markdown",
   "metadata": {},
   "source": [
    "# Comando while\n",
    "\n",
    "O while é o comando utilizado para programar repetições no Python baseadas na avaliação de uma condição. Enquanto a condição for verdadeira, o bloco de comandos interno ao while é repetido. Quando a condição se torna falsa, o bloco de comandos deixa de repetir.\n",
    "\n",
    "```python\n",
    "while (cond):\n",
    "    bloco de comandos\n",
    "```"
   ]
  },
  {
   "cell_type": "markdown",
   "metadata": {},
   "source": [
    "Exemplo 1: Digitar os nomes e idades de diversas pessoas, armazenando esses dados em 2 listas."
   ]
  },
  {
   "cell_type": "code",
   "execution_count": 2,
   "metadata": {},
   "outputs": [
    {
     "name": "stdout",
     "output_type": "stream",
     "text": [
      "\n",
      "\n",
      "Nomes digitados\n",
      "===============\n",
      "['Kezia', 'Irlan']\n",
      "\n",
      "Idades\n",
      "===============\n",
      "[23, 29]\n"
     ]
    }
   ],
   "source": [
    "lista_idades = []\n",
    "lista_pessoas = []\n",
    "\n",
    "nome = input(\"Digite um nome: \")\n",
    "while (nome.lower() != 'fim'):\n",
    "    idade = int(input(\"Digite uma idade: \"))\n",
    "    lista_idades.append(idade)\n",
    "    lista_pessoas.append(nome)\n",
    "    nome = input(\"Digite um nome: \")\n",
    "    \n",
    "print(\"\\n\\nNomes digitados\\n===============\")\n",
    "print(lista_pessoas)\n",
    "print(\"\\nIdades\\n===============\")\n",
    "print(lista_idades)"
   ]
  },
  {
   "cell_type": "markdown",
   "metadata": {},
   "source": [
    "Exemplo 2: Digitar os nomes e idades de 5 pessoas, armazenando esses dados em 2 listas."
   ]
  },
  {
   "cell_type": "code",
   "execution_count": 4,
   "metadata": {},
   "outputs": [
    {
     "name": "stdout",
     "output_type": "stream",
     "text": [
      "\n",
      "\n",
      "Nomes digitados\n",
      "===============\n",
      "['Kezia', 'Irlan', 'Zé ', 'Rafaela', 'Janice']\n",
      "\n",
      "Idades\n",
      "===============\n",
      "[23, 29, 18, 14, 76]\n"
     ]
    }
   ],
   "source": [
    "lista_idades = []\n",
    "lista_pessoas = []\n",
    "cont = 0\n",
    "\n",
    "while (cont < 5):\n",
    "    nome = input(\"Digite um nome: \")    \n",
    "    idade = int(input(\"Digite uma idade: \"))\n",
    "    lista_idades.append(idade)\n",
    "    lista_pessoas.append(nome)\n",
    "    cont = cont + 1 # ou cont += 1\n",
    "    \n",
    "print(\"\\n\\nNomes digitados\\n===============\")\n",
    "print(lista_pessoas)\n",
    "print(\"\\nIdades\\n===============\")\n",
    "print(lista_idades)"
   ]
  },
  {
   "cell_type": "markdown",
   "metadata": {},
   "source": [
    "Exemplo 3: Calcular a soma dos termos da série, enquanto o valor dos termos for maior que 0.0001\n",
    "\n",
    "$S = \\frac{1}{1}+\\frac{1}{4}+\\frac{1}{9}+\\frac{1}{16}+...$"
   ]
  },
  {
   "cell_type": "code",
   "execution_count": 5,
   "metadata": {},
   "outputs": [
    {
     "name": "stdout",
     "output_type": "stream",
     "text": [
      "1o termo 1/1 = 1.0\n",
      "2o termo 1/4 = 0.25\n",
      "3o termo 1/9 = 0.1111111111111111\n",
      "4o termo 1/16 = 0.0625\n",
      "5o termo 1/25 = 0.04\n",
      "6o termo 1/36 = 0.027777777777777776\n",
      "7o termo 1/49 = 0.02040816326530612\n",
      "8o termo 1/64 = 0.015625\n",
      "9o termo 1/81 = 0.012345679012345678\n",
      "10o termo 1/100 = 0.01\n",
      "11o termo 1/121 = 0.008264462809917356\n",
      "12o termo 1/144 = 0.006944444444444444\n",
      "13o termo 1/169 = 0.005917159763313609\n",
      "14o termo 1/196 = 0.00510204081632653\n",
      "15o termo 1/225 = 0.0044444444444444444\n",
      "16o termo 1/256 = 0.00390625\n",
      "17o termo 1/289 = 0.0034602076124567475\n",
      "18o termo 1/324 = 0.0030864197530864196\n",
      "19o termo 1/361 = 0.002770083102493075\n",
      "20o termo 1/400 = 0.0025\n",
      "21o termo 1/441 = 0.0022675736961451248\n",
      "22o termo 1/484 = 0.002066115702479339\n",
      "23o termo 1/529 = 0.001890359168241966\n",
      "24o termo 1/576 = 0.001736111111111111\n",
      "25o termo 1/625 = 0.0016\n",
      "26o termo 1/676 = 0.0014792899408284023\n",
      "27o termo 1/729 = 0.0013717421124828531\n",
      "28o termo 1/784 = 0.0012755102040816326\n",
      "29o termo 1/841 = 0.0011890606420927466\n",
      "30o termo 1/900 = 0.0011111111111111111\n",
      "31o termo 1/961 = 0.001040582726326743\n",
      "32o termo 1/1024 = 0.0009765625\n",
      "33o termo 1/1089 = 0.0009182736455463728\n",
      "34o termo 1/1156 = 0.0008650519031141869\n",
      "35o termo 1/1225 = 0.0008163265306122449\n",
      "36o termo 1/1296 = 0.0007716049382716049\n",
      "37o termo 1/1369 = 0.0007304601899196494\n",
      "38o termo 1/1444 = 0.0006925207756232687\n",
      "39o termo 1/1521 = 0.0006574621959237344\n",
      "40o termo 1/1600 = 0.000625\n",
      "41o termo 1/1681 = 0.000594883997620464\n",
      "42o termo 1/1764 = 0.0005668934240362812\n",
      "43o termo 1/1849 = 0.0005408328826392645\n",
      "44o termo 1/1936 = 0.0005165289256198347\n",
      "45o termo 1/2025 = 0.0004938271604938272\n",
      "46o termo 1/2116 = 0.0004725897920604915\n",
      "47o termo 1/2209 = 0.0004526935264825713\n",
      "48o termo 1/2304 = 0.00043402777777777775\n",
      "49o termo 1/2401 = 0.00041649312786339027\n",
      "50o termo 1/2500 = 0.0004\n",
      "51o termo 1/2601 = 0.00038446751249519417\n",
      "52o termo 1/2704 = 0.0003698224852071006\n",
      "53o termo 1/2809 = 0.000355998576005696\n",
      "54o termo 1/2916 = 0.0003429355281207133\n",
      "55o termo 1/3025 = 0.00033057851239669424\n",
      "56o termo 1/3136 = 0.00031887755102040814\n",
      "57o termo 1/3249 = 0.0003077870113881194\n",
      "58o termo 1/3364 = 0.00029726516052318666\n",
      "59o termo 1/3481 = 0.0002872737719046251\n",
      "60o termo 1/3600 = 0.0002777777777777778\n",
      "61o termo 1/3721 = 0.0002687449610319806\n",
      "62o termo 1/3844 = 0.00026014568158168577\n",
      "63o termo 1/3969 = 0.0002519526329050139\n",
      "64o termo 1/4096 = 0.000244140625\n",
      "65o termo 1/4225 = 0.00023668639053254438\n",
      "66o termo 1/4356 = 0.0002295684113865932\n",
      "67o termo 1/4489 = 0.00022276676319893073\n",
      "68o termo 1/4624 = 0.00021626297577854672\n",
      "69o termo 1/4761 = 0.00021003990758244065\n",
      "70o termo 1/4900 = 0.00020408163265306123\n",
      "71o termo 1/5041 = 0.00019837333862328903\n",
      "72o termo 1/5184 = 0.00019290123456790122\n",
      "73o termo 1/5329 = 0.00018765246762994934\n",
      "74o termo 1/5476 = 0.00018261504747991235\n",
      "75o termo 1/5625 = 0.00017777777777777779\n",
      "76o termo 1/5776 = 0.00017313019390581717\n",
      "77o termo 1/5929 = 0.00016866250632484398\n",
      "78o termo 1/6084 = 0.0001643655489809336\n",
      "79o termo 1/6241 = 0.0001602307322544464\n",
      "80o termo 1/6400 = 0.00015625\n",
      "81o termo 1/6561 = 0.00015241579027587258\n",
      "82o termo 1/6724 = 0.000148720999405116\n",
      "83o termo 1/6889 = 0.00014515894904920887\n",
      "84o termo 1/7056 = 0.0001417233560090703\n",
      "85o termo 1/7225 = 0.0001384083044982699\n",
      "86o termo 1/7396 = 0.00013520822065981613\n",
      "87o termo 1/7569 = 0.0001321178491214163\n",
      "88o termo 1/7744 = 0.00012913223140495868\n",
      "89o termo 1/7921 = 0.00012624668602449185\n",
      "90o termo 1/8100 = 0.0001234567901234568\n",
      "91o termo 1/8281 = 0.00012075836251660427\n",
      "92o termo 1/8464 = 0.00011814744801512288\n",
      "93o termo 1/8649 = 0.00011562030292519366\n",
      "94o termo 1/8836 = 0.00011317338162064282\n",
      "95o termo 1/9025 = 0.00011080332409972299\n",
      "96o termo 1/9216 = 0.00010850694444444444\n",
      "97o termo 1/9409 = 0.00010628122010840685\n",
      "98o termo 1/9604 = 0.00010412328196584757\n",
      "99o termo 1/9801 = 0.00010203040506070809\n",
      "100o termo 1/10000 = 0.0001\n",
      "1.6349839001848923\n"
     ]
    }
   ],
   "source": [
    "soma = 0 # Acumulador que representa a soma de todos os termos da série\n",
    "qtde = 0 # Inicialização do contador que conta a quantidade de termos calculados\n",
    "den = 0 # Inicialização da variável que representa o denominador\n",
    "termo = 1 # Inicialização do termo = 1 (para conseguir entrar no loop while)\n",
    "while (termo > 0.0001):\n",
    "    qtde += 1 # Incrementa a quantidade de termos calculados na série\n",
    "    den = qtde ** 2 # Calcula o valor do denominador em relação à quantidade\n",
    "    termo = 1 / den\n",
    "    soma += termo # Acumula o valor do termo à soma\n",
    "    print(\"{}o termo {}/{} = {}\".format(qtde, 1, den, termo))    \n",
    "    \n",
    "print(soma)"
   ]
  }
 ],
 "metadata": {
  "kernelspec": {
   "display_name": "Python 3",
   "language": "python",
   "name": "python3"
  },
  "language_info": {
   "codemirror_mode": {
    "name": "ipython",
    "version": 3
   },
   "file_extension": ".py",
   "mimetype": "text/x-python",
   "name": "python",
   "nbconvert_exporter": "python",
   "pygments_lexer": "ipython3",
   "version": "3.10.4"
  }
 },
 "nbformat": 4,
 "nbformat_minor": 2
}
