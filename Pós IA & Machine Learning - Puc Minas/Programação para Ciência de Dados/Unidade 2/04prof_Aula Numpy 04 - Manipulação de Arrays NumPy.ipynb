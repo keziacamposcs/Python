{
 "cells": [
  {
   "cell_type": "markdown",
   "metadata": {},
   "source": [
    "# Manipulação de arrays Numpy"
   ]
  },
  {
   "cell_type": "markdown",
   "metadata": {},
   "source": [
    "### Importando o NumPy"
   ]
  },
  {
   "cell_type": "code",
   "execution_count": 95,
   "metadata": {},
   "outputs": [],
   "source": [
    "# Importando o NumPy\n",
    "import numpy as np"
   ]
  },
  {
   "cell_type": "markdown",
   "metadata": {},
   "source": [
    "### Alterando, adicionando e removendo elementos"
   ]
  },
  {
   "cell_type": "code",
   "execution_count": 96,
   "metadata": {},
   "outputs": [
    {
     "data": {
      "text/plain": [
       "array([ 96,  97,  26,  51, 195,  23,  54, 192,  36, 199,  22,  35])"
      ]
     },
     "execution_count": 96,
     "metadata": {},
     "output_type": "execute_result"
    }
   ],
   "source": [
    "# Criando um array de 1 dimensão\n",
    "a1D = np.random.randint(1,200, 12)\n",
    "a1D"
   ]
  },
  {
   "cell_type": "code",
   "execution_count": 97,
   "metadata": {},
   "outputs": [
    {
     "data": {
      "text/plain": [
       "array([[ 44,  51,  35, 140],\n",
       "       [ 38, 167,  80, 165],\n",
       "       [198,  90,   6,  89]])"
      ]
     },
     "execution_count": 97,
     "metadata": {},
     "output_type": "execute_result"
    }
   ],
   "source": [
    "# Criando um array de 2 dimensões\n",
    "a2D = np.random.randint(1,200, (3,4))\n",
    "a2D"
   ]
  },
  {
   "cell_type": "code",
   "execution_count": 98,
   "metadata": {},
   "outputs": [
    {
     "data": {
      "text/plain": [
       "array([[[ 70, 198,  15, 144,  14,  83],\n",
       "        [ 71,  31,  32, 108,  43,  69],\n",
       "        [ 88,  46,  90, 154,   7, 111]],\n",
       "\n",
       "       [[ 76, 184, 124, 167,  54,  79],\n",
       "        [  2, 135,  63,  43,  93, 149],\n",
       "        [ 41, 134,  87,  69, 184, 130]]])"
      ]
     },
     "execution_count": 98,
     "metadata": {},
     "output_type": "execute_result"
    }
   ],
   "source": [
    "# Criando um array de 3 dimensões\n",
    "a3D = np.random.randint(1,200, (2,3,6)) # 2 páginas/faces, 3 linhas, 6 colunas\n",
    "a3D"
   ]
  },
  {
   "cell_type": "code",
   "execution_count": 99,
   "metadata": {},
   "outputs": [
    {
     "data": {
      "text/plain": [
       "array([ -1,  97,  26,  51, 195,  23,  54, 192,  36, 199,  22,  35])"
      ]
     },
     "execution_count": 99,
     "metadata": {},
     "output_type": "execute_result"
    }
   ],
   "source": [
    "# Alterando o elemento do índice 0\n",
    "a1D[0] = -1\n",
    "a1D"
   ]
  },
  {
   "cell_type": "code",
   "execution_count": 100,
   "metadata": {},
   "outputs": [
    {
     "data": {
      "text/plain": [
       "array([[ 44,  51,  35, 140],\n",
       "       [ 38, 167,  -1, 165],\n",
       "       [198,  90,   6,  89]])"
      ]
     },
     "execution_count": 100,
     "metadata": {},
     "output_type": "execute_result"
    }
   ],
   "source": [
    "# Alterando o elemento da linha 1, coluna 2\n",
    "a2D[1][2] = -1\n",
    "a2D"
   ]
  },
  {
   "cell_type": "code",
   "execution_count": 101,
   "metadata": {},
   "outputs": [
    {
     "data": {
      "text/plain": [
       "array([[[ 70, 198,  15, 144,  14,  83],\n",
       "        [ 71,  31,  32, 108,  43,  69],\n",
       "        [ 88,  46,  90, 154,   7, 111]],\n",
       "\n",
       "       [[ 76, 184, 124, 167,  54,  79],\n",
       "        [  2, 135,  63,  43,  93, 149],\n",
       "        [ 41, 134,  87,  69,  -1, 130]]])"
      ]
     },
     "execution_count": 101,
     "metadata": {},
     "output_type": "execute_result"
    }
   ],
   "source": [
    "# Alterando o elemento da face 1, linha 2, coluna 4\n",
    "a3D[1][2][4] = -1\n",
    "a3D"
   ]
  },
  {
   "cell_type": "code",
   "execution_count": 102,
   "metadata": {},
   "outputs": [
    {
     "data": {
      "text/plain": [
       "array([ -1,  97,  26,  51, 195,  23,  54, 192,  36, 199,  22,  35, 100,\n",
       "       130])"
      ]
     },
     "execution_count": 102,
     "metadata": {},
     "output_type": "execute_result"
    }
   ],
   "source": [
    "# Retorna array com elementos adicionados no final\n",
    "a1D_modificado = np.append(a1D, [100, 130])\n",
    "a1D_modificado"
   ]
  },
  {
   "cell_type": "code",
   "execution_count": 103,
   "metadata": {},
   "outputs": [
    {
     "data": {
      "text/plain": [
       "array([ -1,  97,  26,  51, 195,  23,  54, 192,  36, 199,  22,  35])"
      ]
     },
     "execution_count": 103,
     "metadata": {},
     "output_type": "execute_result"
    }
   ],
   "source": [
    "a1D # a1D não foi modificado"
   ]
  },
  {
   "cell_type": "code",
   "execution_count": 104,
   "metadata": {},
   "outputs": [
    {
     "data": {
      "text/plain": [
       "array([ 44,  51,  35, 140,  38, 167,  -1, 165, 198,  90,   6,  89, 100,\n",
       "       130])"
      ]
     },
     "execution_count": 104,
     "metadata": {},
     "output_type": "execute_result"
    }
   ],
   "source": [
    "a2D_modificado = np.append(a2D, [100, 130]) # Lineariza a2D e insere os elementos no final\n",
    "a2D_modificado"
   ]
  },
  {
   "cell_type": "code",
   "execution_count": 105,
   "metadata": {},
   "outputs": [
    {
     "data": {
      "text/plain": [
       "array([[ 44,  51,  35, 140],\n",
       "       [ 38, 167,  -1, 165],\n",
       "       [198,  90,   6,  89]])"
      ]
     },
     "execution_count": 105,
     "metadata": {},
     "output_type": "execute_result"
    }
   ],
   "source": [
    "a2D # a2D não foi modificado"
   ]
  },
  {
   "cell_type": "code",
   "execution_count": 106,
   "metadata": {},
   "outputs": [
    {
     "data": {
      "text/plain": [
       "array([ 70, 198,  15, 144,  14,  83,  71,  31,  32, 108,  43,  69,  88,\n",
       "        46,  90, 154,   7, 111,  76, 184, 124, 167,  54,  79,   2, 135,\n",
       "        63,  43,  93, 149,  41, 134,  87,  69,  -1, 130, 100, 130])"
      ]
     },
     "execution_count": 106,
     "metadata": {},
     "output_type": "execute_result"
    }
   ],
   "source": [
    "a3D_modificado = np.append(a3D, [100, 130]) # Lineariza a3D e insere os elementos no final\n",
    "a3D_modificado"
   ]
  },
  {
   "cell_type": "code",
   "execution_count": 107,
   "metadata": {},
   "outputs": [
    {
     "data": {
      "text/plain": [
       "array([[[ 70, 198,  15, 144,  14,  83],\n",
       "        [ 71,  31,  32, 108,  43,  69],\n",
       "        [ 88,  46,  90, 154,   7, 111]],\n",
       "\n",
       "       [[ 76, 184, 124, 167,  54,  79],\n",
       "        [  2, 135,  63,  43,  93, 149],\n",
       "        [ 41, 134,  87,  69,  -1, 130]]])"
      ]
     },
     "execution_count": 107,
     "metadata": {},
     "output_type": "execute_result"
    }
   ],
   "source": [
    "a3D # a3D não foi modificado"
   ]
  },
  {
   "cell_type": "code",
   "execution_count": 108,
   "metadata": {},
   "outputs": [
    {
     "name": "stdout",
     "output_type": "stream",
     "text": [
      "[ -1  97  26  51 195  23  54 192  36 199  22  35 100 130]\n",
      "[ 26 195  23  54 192  36 199  22  35 100 130]\n"
     ]
    }
   ],
   "source": [
    "a1D_modificado2 = np.delete(a1D_modificado, [0, 1, 3])\n",
    "print(a1D_modificado)\n",
    "print(a1D_modificado2)"
   ]
  },
  {
   "cell_type": "markdown",
   "metadata": {},
   "source": [
    "### Comparação entre arrays"
   ]
  },
  {
   "cell_type": "code",
   "execution_count": 109,
   "metadata": {},
   "outputs": [
    {
     "data": {
      "text/plain": [
       "array([False,  True, False,  True,  True])"
      ]
     },
     "execution_count": 109,
     "metadata": {},
     "output_type": "execute_result"
    }
   ],
   "source": [
    "a1D = np.array([1, 2, 3, 4, 5])\n",
    "b1D = np.array([3, 2, 1, 4, 5])\n",
    "a1D == b1D # Comparação elemento a elemento"
   ]
  },
  {
   "cell_type": "code",
   "execution_count": 110,
   "metadata": {},
   "outputs": [
    {
     "data": {
      "text/plain": [
       "array([8, 9, 6, 9, 8, 9, 6, 5, 5, 7, 5, 3, 7, 4, 2, 9, 9, 8, 6, 9])"
      ]
     },
     "execution_count": 110,
     "metadata": {},
     "output_type": "execute_result"
    }
   ],
   "source": [
    "c1D = np.random.randint(1,10,20)\n",
    "c1D"
   ]
  },
  {
   "cell_type": "code",
   "execution_count": 111,
   "metadata": {},
   "outputs": [
    {
     "data": {
      "text/plain": [
       "array([False, False, False, False, False, False, False,  True,  True,\n",
       "       False,  True, False, False, False, False, False, False, False,\n",
       "       False, False])"
      ]
     },
     "execution_count": 111,
     "metadata": {},
     "output_type": "execute_result"
    }
   ],
   "source": [
    "c1D == 5"
   ]
  },
  {
   "cell_type": "code",
   "execution_count": 112,
   "metadata": {},
   "outputs": [
    {
     "data": {
      "text/plain": [
       "array([5, 5, 5])"
      ]
     },
     "execution_count": 112,
     "metadata": {},
     "output_type": "execute_result"
    }
   ],
   "source": [
    "c1D[c1D == 5]"
   ]
  },
  {
   "cell_type": "markdown",
   "metadata": {},
   "source": [
    "### Operações entre arrays e escalares"
   ]
  },
  {
   "cell_type": "code",
   "execution_count": 113,
   "metadata": {},
   "outputs": [
    {
     "data": {
      "text/plain": [
       "array([ 1,  2,  3,  4,  5,  6,  7,  8,  9, 10])"
      ]
     },
     "execution_count": 113,
     "metadata": {},
     "output_type": "execute_result"
    }
   ],
   "source": [
    "a1D = np.arange(1,11)\n",
    "a1D"
   ]
  },
  {
   "cell_type": "code",
   "execution_count": 114,
   "metadata": {},
   "outputs": [
    {
     "data": {
      "text/plain": [
       "array([ 1,  3,  5,  7,  9, 11, 13, 15, 17, 19])"
      ]
     },
     "execution_count": 114,
     "metadata": {},
     "output_type": "execute_result"
    }
   ],
   "source": [
    "b1D = np.arange(1,20,2)\n",
    "b1D"
   ]
  },
  {
   "cell_type": "code",
   "execution_count": 115,
   "metadata": {},
   "outputs": [
    {
     "data": {
      "text/plain": [
       "array([ 2,  4,  6,  8, 10, 12, 14, 16, 18, 20])"
      ]
     },
     "execution_count": 115,
     "metadata": {},
     "output_type": "execute_result"
    }
   ],
   "source": [
    "c1D = 2 * a1D # Cada elemento de a1D será multiplicado por 2\n",
    "c1D"
   ]
  },
  {
   "cell_type": "code",
   "execution_count": 116,
   "metadata": {},
   "outputs": [
    {
     "data": {
      "text/plain": [
       "array([ 6,  8, 10, 12, 14, 16, 18, 20, 22, 24])"
      ]
     },
     "execution_count": 116,
     "metadata": {},
     "output_type": "execute_result"
    }
   ],
   "source": [
    "d1D = b1D + 5 # Soma 5 para cada elemento de b1D\n",
    "d1D"
   ]
  },
  {
   "cell_type": "code",
   "execution_count": 117,
   "metadata": {},
   "outputs": [
    {
     "data": {
      "text/plain": [
       "array([-2,  0,  2,  4,  6,  8, 10, 12, 14, 16])"
      ]
     },
     "execution_count": 117,
     "metadata": {},
     "output_type": "execute_result"
    }
   ],
   "source": [
    "e1D = b1D - 3\n",
    "e1D"
   ]
  },
  {
   "cell_type": "code",
   "execution_count": 118,
   "metadata": {},
   "outputs": [
    {
     "data": {
      "text/plain": [
       "array([0.2, 0.4, 0.6, 0.8, 1. , 1.2, 1.4, 1.6, 1.8, 2. ])"
      ]
     },
     "execution_count": 118,
     "metadata": {},
     "output_type": "execute_result"
    }
   ],
   "source": [
    "f1D = a1D / 5\n",
    "f1D"
   ]
  },
  {
   "cell_type": "code",
   "execution_count": 119,
   "metadata": {},
   "outputs": [
    {
     "data": {
      "text/plain": [
       "array([-4. , -2.2, -0.4,  1.4,  3.2,  5. ,  6.8,  8.6, 10.4, 12.2, 14. ,\n",
       "       15.8, 17.6, 19.4, 21.2, 23. , 24.8, 26.6, 28.4, 30.2, 32. , 33.8,\n",
       "       35.6, 37.4, 39.2, 41. , 42.8, 44.6, 46.4, 48.2, 50. , 51.8, 53.6,\n",
       "       55.4, 57.2, 59. , 60.8, 62.6, 64.4, 66.2, 68. , 69.8, 71.6, 73.4,\n",
       "       75.2, 77. , 78.8, 80.6, 82.4, 84.2, 86. , 87.8, 89.6, 91.4, 93.2,\n",
       "       95. ])"
      ]
     },
     "execution_count": 119,
     "metadata": {},
     "output_type": "execute_result"
    }
   ],
   "source": [
    "celsius = np.arange(-20, 36) # Cria um array com o valores de -20 a 35, representando a temperatura em graus Celsius\n",
    "fahrenheit = celsius * (9/5) + 32 # Cria um array convertendo cada valor em Celsius para fahrenheit\n",
    "\n",
    "fahrenheit"
   ]
  },
  {
   "cell_type": "code",
   "execution_count": 120,
   "metadata": {},
   "outputs": [
    {
     "name": "stdout",
     "output_type": "stream",
     "text": [
      "[ 1  2  3  4  5  6  7  8  9 10]\n",
      "[ 1  3  5  7  9 11 13 15 17 19]\n",
      "-------------------------------\n",
      "[ 2  5  8 11 14 17 20 23 26 29]\n"
     ]
    }
   ],
   "source": [
    "# Somando cada elemento de a1D a b1D\n",
    "g1D = a1D + b1D\n",
    "print(a1D)\n",
    "print(b1D)\n",
    "print(\"-\"*31)\n",
    "print(g1D)"
   ]
  },
  {
   "cell_type": "code",
   "execution_count": 121,
   "metadata": {},
   "outputs": [
    {
     "name": "stdout",
     "output_type": "stream",
     "text": [
      "[ 1  2  3  4  5  6  7  8  9 10]\n",
      "[ 1  3  5  7  9 11 13 15 17 19]\n",
      "-------------------------------\n",
      "[ 2  5  8 11 14 17 20 23 26 29]\n"
     ]
    }
   ],
   "source": [
    "# Outra forma de somar cada elemento de a1D a b1D\n",
    "h1D = np.add(a1D, b1D)\n",
    "print(a1D)\n",
    "print(b1D)\n",
    "print(\"-\"*31)\n",
    "print(h1D)"
   ]
  },
  {
   "cell_type": "code",
   "execution_count": 122,
   "metadata": {},
   "outputs": [
    {
     "name": "stdout",
     "output_type": "stream",
     "text": [
      "[ 2  5  8 11 14 17 20 23 26 29]\n",
      "[ 2  5  8 11 14 17 20 23 26 29]\n",
      "-------------------------------\n",
      "[0 0 0 0 0 0 0 0 0 0]\n"
     ]
    }
   ],
   "source": [
    "i1D = h1D - g1D\n",
    "print(h1D)\n",
    "print(g1D)\n",
    "print(\"-\"*31)\n",
    "print(i1D)"
   ]
  },
  {
   "cell_type": "code",
   "execution_count": 123,
   "metadata": {},
   "outputs": [
    {
     "name": "stdout",
     "output_type": "stream",
     "text": [
      "[ 2  5  8 11 14 17 20 23 26 29]\n",
      "[ 2  5  8 11 14 17 20 23 26 29]\n",
      "-------------------------------\n",
      "[0 0 0 0 0 0 0 0 0 0]\n"
     ]
    }
   ],
   "source": [
    "# Outra forma de somar cada elemento de a1D a b1D\n",
    "j1D = np.subtract(h1D, g1D)\n",
    "print(h1D)\n",
    "print(g1D)\n",
    "print(\"-\"*31)\n",
    "print(j1D)"
   ]
  },
  {
   "cell_type": "code",
   "execution_count": 124,
   "metadata": {},
   "outputs": [
    {
     "data": {
      "text/plain": [
       "array([1, 2, 3, 4, 5])"
      ]
     },
     "execution_count": 124,
     "metadata": {},
     "output_type": "execute_result"
    }
   ],
   "source": [
    "a1D = np.arange(1, 6)\n",
    "a1D"
   ]
  },
  {
   "cell_type": "code",
   "execution_count": 125,
   "metadata": {},
   "outputs": [
    {
     "data": {
      "text/plain": [
       "array([ 6,  7,  8,  9, 10])"
      ]
     },
     "execution_count": 125,
     "metadata": {},
     "output_type": "execute_result"
    }
   ],
   "source": [
    "b1D = np.arange(6,11)\n",
    "b1D"
   ]
  },
  {
   "cell_type": "code",
   "execution_count": 126,
   "metadata": {},
   "outputs": [
    {
     "data": {
      "text/plain": [
       "array([ 6, 14, 24, 36, 50])"
      ]
     },
     "execution_count": 126,
     "metadata": {},
     "output_type": "execute_result"
    }
   ],
   "source": [
    "c1D = a1D * b1D\n",
    "c1D"
   ]
  },
  {
   "cell_type": "code",
   "execution_count": 127,
   "metadata": {},
   "outputs": [
    {
     "data": {
      "text/plain": [
       "array([ 6, 14, 24, 36, 50])"
      ]
     },
     "execution_count": 127,
     "metadata": {},
     "output_type": "execute_result"
    }
   ],
   "source": [
    "d1D = np.multiply(a1D, b1D)\n",
    "d1D"
   ]
  },
  {
   "cell_type": "code",
   "execution_count": 128,
   "metadata": {},
   "outputs": [
    {
     "data": {
      "text/plain": [
       "array([ 6.,  7.,  8.,  9., 10.])"
      ]
     },
     "execution_count": 128,
     "metadata": {},
     "output_type": "execute_result"
    }
   ],
   "source": [
    "e1D = c1D / a1D\n",
    "e1D"
   ]
  },
  {
   "cell_type": "code",
   "execution_count": 129,
   "metadata": {},
   "outputs": [
    {
     "data": {
      "text/plain": [
       "array([ 6.,  7.,  8.,  9., 10.])"
      ]
     },
     "execution_count": 129,
     "metadata": {},
     "output_type": "execute_result"
    }
   ],
   "source": [
    "f1D = np.divide(c1D, a1D)\n",
    "f1D"
   ]
  },
  {
   "cell_type": "code",
   "execution_count": 130,
   "metadata": {},
   "outputs": [
    {
     "data": {
      "text/plain": [
       "array([1, 2, 3, 4, 5, 6, 7, 8, 9])"
      ]
     },
     "execution_count": 130,
     "metadata": {},
     "output_type": "execute_result"
    }
   ],
   "source": [
    "g1D = np.arange(1,10)\n",
    "g1D"
   ]
  },
  {
   "cell_type": "code",
   "execution_count": 131,
   "metadata": {},
   "outputs": [
    {
     "data": {
      "text/plain": [
       "array([1.        , 1.41421356, 1.73205081, 2.        , 2.23606798,\n",
       "       2.44948974, 2.64575131, 2.82842712, 3.        ])"
      ]
     },
     "execution_count": 131,
     "metadata": {},
     "output_type": "execute_result"
    }
   ],
   "source": [
    "raiz1D = np.sqrt(g1D)\n",
    "raiz1D"
   ]
  },
  {
   "cell_type": "markdown",
   "metadata": {},
   "source": [
    "### Algumas funções"
   ]
  },
  {
   "cell_type": "code",
   "execution_count": 132,
   "metadata": {},
   "outputs": [
    {
     "data": {
      "text/plain": [
       "array([[76, 91, 94, 86,  7, 44, 59, 88, 12, 45],\n",
       "       [43, 78, 88, 85, 16, 81, 83, 76, 82, 69],\n",
       "       [58, 32, 87, 65, 57, 49, 61, 50, 31, 16],\n",
       "       [17, 26, 93, 79, 32, 17, 39, 65, 88, 72],\n",
       "       [39, 43, 35, 97, 30, 59, 86, 16, 70, 41]])"
      ]
     },
     "execution_count": 132,
     "metadata": {},
     "output_type": "execute_result"
    }
   ],
   "source": [
    "d2D = np.random.randint(1, 101, (5,10)) # Array de 5 linhas x 10 colunas preenchidos com valores aleatórios entre 1 e 100\n",
    "d2D"
   ]
  },
  {
   "cell_type": "markdown",
   "metadata": {},
   "source": [
    "#### Obs: como os valores valores são gerados aleatoriamente, sua matriz provavelmente será diferente da gerada acima"
   ]
  },
  {
   "cell_type": "code",
   "execution_count": 133,
   "metadata": {},
   "outputs": [
    {
     "data": {
      "text/plain": [
       "2853"
      ]
     },
     "execution_count": 133,
     "metadata": {},
     "output_type": "execute_result"
    }
   ],
   "source": [
    "# Soma de todos os elementos\n",
    "d2D.sum()"
   ]
  },
  {
   "cell_type": "code",
   "execution_count": 134,
   "metadata": {},
   "outputs": [
    {
     "data": {
      "text/plain": [
       "array([233, 270, 397, 412, 142, 250, 328, 295, 283, 243])"
      ]
     },
     "execution_count": 134,
     "metadata": {},
     "output_type": "execute_result"
    }
   ],
   "source": [
    "# Soma de todos os elementos de cada coluna (eixo 0)\n",
    "d2D.sum(axis = 0)"
   ]
  },
  {
   "cell_type": "code",
   "execution_count": 135,
   "metadata": {},
   "outputs": [
    {
     "data": {
      "text/plain": [
       "array([602, 701, 506, 528, 516])"
      ]
     },
     "execution_count": 135,
     "metadata": {},
     "output_type": "execute_result"
    }
   ],
   "source": [
    "# Soma de todos os elementos de cada linha (eixo 1)\n",
    "d2D.sum(axis = 1)"
   ]
  },
  {
   "cell_type": "code",
   "execution_count": 136,
   "metadata": {},
   "outputs": [
    {
     "data": {
      "text/plain": [
       "array([233, 270, 397, 412, 142, 250, 328, 295, 283, 243])"
      ]
     },
     "execution_count": 136,
     "metadata": {},
     "output_type": "execute_result"
    }
   ],
   "source": [
    "somacol = sum(d2D) # A função sum() do Python retornará a soma de todas as colunas\n",
    "somacol"
   ]
  },
  {
   "cell_type": "code",
   "execution_count": 137,
   "metadata": {},
   "outputs": [
    {
     "data": {
      "text/plain": [
       "7"
      ]
     },
     "execution_count": 137,
     "metadata": {},
     "output_type": "execute_result"
    }
   ],
   "source": [
    "# Retorna o menor valor geral\n",
    "d2D.min()"
   ]
  },
  {
   "cell_type": "code",
   "execution_count": 138,
   "metadata": {},
   "outputs": [
    {
     "data": {
      "text/plain": [
       "array([17, 26, 35, 65,  7, 17, 39, 16, 12, 16])"
      ]
     },
     "execution_count": 138,
     "metadata": {},
     "output_type": "execute_result"
    }
   ],
   "source": [
    "# Retorna o menor valor de cada coluna (eixo 0)\n",
    "d2D.min(axis=0)"
   ]
  },
  {
   "cell_type": "code",
   "execution_count": 139,
   "metadata": {},
   "outputs": [
    {
     "data": {
      "text/plain": [
       "array([ 7, 16, 16, 17, 16])"
      ]
     },
     "execution_count": 139,
     "metadata": {},
     "output_type": "execute_result"
    }
   ],
   "source": [
    "# Retorna o menor valor de cada linha (eixo 1)\n",
    "d2D.min(axis=1)"
   ]
  },
  {
   "cell_type": "code",
   "execution_count": 140,
   "metadata": {},
   "outputs": [
    {
     "data": {
      "text/plain": [
       "97"
      ]
     },
     "execution_count": 140,
     "metadata": {},
     "output_type": "execute_result"
    }
   ],
   "source": [
    "# Retorna o maior valor geral\n",
    "d2D.max()"
   ]
  },
  {
   "cell_type": "code",
   "execution_count": 141,
   "metadata": {},
   "outputs": [
    {
     "data": {
      "text/plain": [
       "array([76, 91, 94, 97, 57, 81, 86, 88, 88, 72])"
      ]
     },
     "execution_count": 141,
     "metadata": {},
     "output_type": "execute_result"
    }
   ],
   "source": [
    "# Retorna o maior valor de cada coluna (eixo 0)\n",
    "d2D.max(axis=0)"
   ]
  },
  {
   "cell_type": "code",
   "execution_count": 142,
   "metadata": {},
   "outputs": [
    {
     "data": {
      "text/plain": [
       "array([94, 88, 87, 93, 97])"
      ]
     },
     "execution_count": 142,
     "metadata": {},
     "output_type": "execute_result"
    }
   ],
   "source": [
    "# Retorna o maior valor de cada linha (eixo 1)\n",
    "d2D.max(axis=1)"
   ]
  },
  {
   "cell_type": "code",
   "execution_count": 143,
   "metadata": {},
   "outputs": [
    {
     "data": {
      "text/plain": [
       "array([  76,  167,  261,  347,  354,  398,  457,  545,  557,  602,  645,\n",
       "        723,  811,  896,  912,  993, 1076, 1152, 1234, 1303, 1361, 1393,\n",
       "       1480, 1545, 1602, 1651, 1712, 1762, 1793, 1809, 1826, 1852, 1945,\n",
       "       2024, 2056, 2073, 2112, 2177, 2265, 2337, 2376, 2419, 2454, 2551,\n",
       "       2581, 2640, 2726, 2742, 2812, 2853], dtype=int32)"
      ]
     },
     "execution_count": 143,
     "metadata": {},
     "output_type": "execute_result"
    }
   ],
   "source": [
    "# Retorna a soma cumulativa\n",
    "d2D.cumsum()"
   ]
  },
  {
   "cell_type": "code",
   "execution_count": 144,
   "metadata": {},
   "outputs": [
    {
     "data": {
      "text/plain": [
       "array([[ 76,  91,  94,  86,   7,  44,  59,  88,  12,  45],\n",
       "       [119, 169, 182, 171,  23, 125, 142, 164,  94, 114],\n",
       "       [177, 201, 269, 236,  80, 174, 203, 214, 125, 130],\n",
       "       [194, 227, 362, 315, 112, 191, 242, 279, 213, 202],\n",
       "       [233, 270, 397, 412, 142, 250, 328, 295, 283, 243]], dtype=int32)"
      ]
     },
     "execution_count": 144,
     "metadata": {},
     "output_type": "execute_result"
    }
   ],
   "source": [
    "# Retorna a soma cumulativa para cada coluna (eixo = 0)\n",
    "d2D.cumsum(axis = 0)"
   ]
  },
  {
   "cell_type": "code",
   "execution_count": 145,
   "metadata": {},
   "outputs": [
    {
     "data": {
      "text/plain": [
       "array([[76, 91, 94, 86,  7, 44, 59, 88, 12, 45],\n",
       "       [43, 78, 88, 85, 16, 81, 83, 76, 82, 69],\n",
       "       [58, 32, 87, 65, 57, 49, 61, 50, 31, 16],\n",
       "       [17, 26, 93, 79, 32, 17, 39, 65, 88, 72],\n",
       "       [39, 43, 35, 97, 30, 59, 86, 16, 70, 41]])"
      ]
     },
     "execution_count": 145,
     "metadata": {},
     "output_type": "execute_result"
    }
   ],
   "source": [
    "d2D"
   ]
  },
  {
   "cell_type": "code",
   "execution_count": 146,
   "metadata": {},
   "outputs": [
    {
     "data": {
      "text/plain": [
       "array([[ 76, 167, 261, 347, 354, 398, 457, 545, 557, 602],\n",
       "       [ 43, 121, 209, 294, 310, 391, 474, 550, 632, 701],\n",
       "       [ 58,  90, 177, 242, 299, 348, 409, 459, 490, 506],\n",
       "       [ 17,  43, 136, 215, 247, 264, 303, 368, 456, 528],\n",
       "       [ 39,  82, 117, 214, 244, 303, 389, 405, 475, 516]], dtype=int32)"
      ]
     },
     "execution_count": 146,
     "metadata": {},
     "output_type": "execute_result"
    }
   ],
   "source": [
    "# Retorna a soma cumulativa para cada linha (eixo = 1)\n",
    "x = d2D.cumsum(axis = 1)\n",
    "x"
   ]
  },
  {
   "cell_type": "code",
   "execution_count": 147,
   "metadata": {},
   "outputs": [
    {
     "data": {
      "text/plain": [
       "57.06"
      ]
     },
     "execution_count": 147,
     "metadata": {},
     "output_type": "execute_result"
    }
   ],
   "source": [
    "# Retorna a média aritmética\n",
    "d2D.mean()"
   ]
  },
  {
   "cell_type": "code",
   "execution_count": 148,
   "metadata": {},
   "outputs": [
    {
     "data": {
      "text/plain": [
       "array([46.6, 54. , 79.4, 82.4, 28.4, 50. , 65.6, 59. , 56.6, 48.6])"
      ]
     },
     "execution_count": 148,
     "metadata": {},
     "output_type": "execute_result"
    }
   ],
   "source": [
    "# Retorna a média aritmética para cada coluna (eixo = 0)\n",
    "d2D.mean(axis = 0)"
   ]
  },
  {
   "cell_type": "code",
   "execution_count": 149,
   "metadata": {},
   "outputs": [
    {
     "data": {
      "text/plain": [
       "array([60.2, 70.1, 50.6, 52.8, 51.6])"
      ]
     },
     "execution_count": 149,
     "metadata": {},
     "output_type": "execute_result"
    }
   ],
   "source": [
    "# Retorna a média aritmética para cada linha (eixo = 1)\n",
    "d2D.mean(axis = 1)"
   ]
  },
  {
   "cell_type": "code",
   "execution_count": 150,
   "metadata": {},
   "outputs": [
    {
     "data": {
      "text/plain": [
       "26.258263461242063"
      ]
     },
     "execution_count": 150,
     "metadata": {},
     "output_type": "execute_result"
    }
   ],
   "source": [
    "# Retorna o desvio padrão\n",
    "d2D.std()"
   ]
  },
  {
   "cell_type": "code",
   "execution_count": 151,
   "metadata": {},
   "outputs": [
    {
     "data": {
      "text/plain": [
       "array([19.70380674, 25.82247083, 22.36604569, 10.46135746, 17.00117643,\n",
       "       20.82306414, 17.26962652, 24.88372962, 29.85029313, 20.48023437])"
      ]
     },
     "execution_count": 151,
     "metadata": {},
     "output_type": "execute_result"
    }
   ],
   "source": [
    "# Retorna o desvio padrão para cada coluna (eixo = 0)\n",
    "d2D.std(axis = 0)"
   ]
  },
  {
   "cell_type": "code",
   "execution_count": 152,
   "metadata": {},
   "outputs": [
    {
     "data": {
      "text/plain": [
       "array([30.70439708, 21.74603412, 19.14784583, 28.21985117, 24.47937908])"
      ]
     },
     "execution_count": 152,
     "metadata": {},
     "output_type": "execute_result"
    }
   ],
   "source": [
    "# Retorna o desvio padrão para cada linha (eixo = 1)\n",
    "d2D.std(axis = 1)"
   ]
  },
  {
   "cell_type": "code",
   "execution_count": 153,
   "metadata": {},
   "outputs": [
    {
     "data": {
      "text/plain": [
       "59.0"
      ]
     },
     "execution_count": 153,
     "metadata": {},
     "output_type": "execute_result"
    }
   ],
   "source": [
    "# Retorna a mediana (geral)\n",
    "np.median(d2D)"
   ]
  },
  {
   "cell_type": "code",
   "execution_count": 154,
   "metadata": {},
   "outputs": [
    {
     "data": {
      "text/plain": [
       "array([43., 43., 88., 85., 30., 49., 61., 65., 70., 45.])"
      ]
     },
     "execution_count": 154,
     "metadata": {},
     "output_type": "execute_result"
    }
   ],
   "source": [
    "# Retorna a mediana para cada coluna (eixo = 0)\n",
    "np.median(d2D, axis = 0)"
   ]
  },
  {
   "cell_type": "code",
   "execution_count": 155,
   "metadata": {},
   "outputs": [
    {
     "data": {
      "text/plain": [
       "array([67.5, 79.5, 53.5, 52. , 42. ])"
      ]
     },
     "execution_count": 155,
     "metadata": {},
     "output_type": "execute_result"
    }
   ],
   "source": [
    "# Retorna a mediana para cada linha (eixo = 1)\n",
    "np.median(d2D, axis = 1)"
   ]
  },
  {
   "cell_type": "markdown",
   "metadata": {},
   "source": [
    "### Copiando e concatenando arrays"
   ]
  },
  {
   "cell_type": "code",
   "execution_count": 156,
   "metadata": {},
   "outputs": [
    {
     "data": {
      "text/plain": [
       "array([[48, 31,  7,  5,  8],\n",
       "       [17,  9, 37, 48, 32],\n",
       "       [38, 33, 20, 43, 25],\n",
       "       [40, 20, 28,  6,  8]])"
      ]
     },
     "execution_count": 156,
     "metadata": {},
     "output_type": "execute_result"
    }
   ],
   "source": [
    "a2D = np.random.randint(1,50, (4,5))\n",
    "a2D"
   ]
  },
  {
   "cell_type": "code",
   "execution_count": 157,
   "metadata": {},
   "outputs": [
    {
     "data": {
      "text/plain": [
       "array([[81, 75, 97, 66, 71],\n",
       "       [68, 83, 65, 79, 86],\n",
       "       [74, 87, 63, 73, 61],\n",
       "       [55, 66, 69, 58, 85]])"
      ]
     },
     "execution_count": 157,
     "metadata": {},
     "output_type": "execute_result"
    }
   ],
   "source": [
    "b2D = np.random.randint(50,100, (4,5))\n",
    "b2D"
   ]
  },
  {
   "cell_type": "code",
   "execution_count": 158,
   "metadata": {},
   "outputs": [
    {
     "data": {
      "text/plain": [
       "array([[48, 31,  7,  5,  8],\n",
       "       [17,  9, 37, 48, 32],\n",
       "       [38, 33, 20, 43, 25],\n",
       "       [40, 20, 28,  6,  8]])"
      ]
     },
     "execution_count": 158,
     "metadata": {},
     "output_type": "execute_result"
    }
   ],
   "source": [
    "c2D = a2D\n",
    "c2D"
   ]
  },
  {
   "cell_type": "code",
   "execution_count": 159,
   "metadata": {},
   "outputs": [
    {
     "data": {
      "text/plain": [
       "array([[48, 31, -1, -1, -1],\n",
       "       [-1, -1, 37, 48, 32],\n",
       "       [38, 33, 20, 43, 25],\n",
       "       [40, 20, 28, -1, -1]])"
      ]
     },
     "execution_count": 159,
     "metadata": {},
     "output_type": "execute_result"
    }
   ],
   "source": [
    "# Aparentemente ocorreu uma cópia dos arrays, mas veja o que acontece se alterarmos alguns elementos\n",
    "c2D[c2D < 20] = -1\n",
    "c2D"
   ]
  },
  {
   "cell_type": "code",
   "execution_count": 160,
   "metadata": {},
   "outputs": [
    {
     "data": {
      "text/plain": [
       "array([[48, 31, -1, -1, -1],\n",
       "       [-1, -1, 37, 48, 32],\n",
       "       [38, 33, 20, 43, 25],\n",
       "       [40, 20, 28, -1, -1]])"
      ]
     },
     "execution_count": 160,
     "metadata": {},
     "output_type": "execute_result"
    }
   ],
   "source": [
    "a2D "
   ]
  },
  {
   "cell_type": "markdown",
   "metadata": {},
   "source": [
    "Os elementos de a2D também foram alterados. :-("
   ]
  },
  {
   "cell_type": "code",
   "execution_count": 161,
   "metadata": {},
   "outputs": [
    {
     "data": {
      "text/plain": [
       "array([[46, 24, 22, 45, 25],\n",
       "       [33,  7, 43, 44, 41],\n",
       "       [ 3, 48, 39,  1, 12],\n",
       "       [11, 26, 25, 17, 44]])"
      ]
     },
     "execution_count": 161,
     "metadata": {},
     "output_type": "execute_result"
    }
   ],
   "source": [
    "# Redefinindo os elementos de a2D\n",
    "a2D = np.random.randint(1,50, (4,5))\n",
    "a2D"
   ]
  },
  {
   "cell_type": "code",
   "execution_count": 162,
   "metadata": {},
   "outputs": [
    {
     "data": {
      "text/plain": [
       "array([[46, 24, 22, 45, 25],\n",
       "       [33,  7, 43, 44, 41],\n",
       "       [ 3, 48, 39,  1, 12],\n",
       "       [11, 26, 25, 17, 44]])"
      ]
     },
     "execution_count": 162,
     "metadata": {},
     "output_type": "execute_result"
    }
   ],
   "source": [
    "# Forma correta de copiar um array parece que com a forma de copiar uma lista\n",
    "c2D = a2D.copy()\n",
    "c2D"
   ]
  },
  {
   "cell_type": "code",
   "execution_count": 163,
   "metadata": {},
   "outputs": [
    {
     "data": {
      "text/plain": [
       "array([[46, 24, 22, 45, 25],\n",
       "       [33, -1, 43, 44, 41],\n",
       "       [-1, 48, 39, -1, -1],\n",
       "       [-1, 26, 25, -1, 44]])"
      ]
     },
     "execution_count": 163,
     "metadata": {},
     "output_type": "execute_result"
    }
   ],
   "source": [
    "c2D[c2D < 20] = -1\n",
    "c2D"
   ]
  },
  {
   "cell_type": "code",
   "execution_count": 164,
   "metadata": {},
   "outputs": [
    {
     "data": {
      "text/plain": [
       "array([[46, 24, 22, 45, 25],\n",
       "       [33,  7, 43, 44, 41],\n",
       "       [ 3, 48, 39,  1, 12],\n",
       "       [11, 26, 25, 17, 44]])"
      ]
     },
     "execution_count": 164,
     "metadata": {},
     "output_type": "execute_result"
    }
   ],
   "source": [
    "a2D"
   ]
  },
  {
   "cell_type": "markdown",
   "metadata": {},
   "source": [
    "Agora sim!!!"
   ]
  },
  {
   "cell_type": "markdown",
   "metadata": {},
   "source": [
    "### Ordenando os elementos de um array"
   ]
  },
  {
   "cell_type": "code",
   "execution_count": 165,
   "metadata": {},
   "outputs": [
    {
     "data": {
      "text/plain": [
       "array([22, 69, 44, 81, 97, 13, 23, 91, 18, 62,  9, 34,  9, 53, 12])"
      ]
     },
     "execution_count": 165,
     "metadata": {},
     "output_type": "execute_result"
    }
   ],
   "source": [
    "a1D = np.random.randint(1,100, 15)\n",
    "a1D"
   ]
  },
  {
   "cell_type": "code",
   "execution_count": 166,
   "metadata": {},
   "outputs": [
    {
     "data": {
      "text/plain": [
       "array([ 9,  9, 12, 13, 18, 22, 23, 34, 44, 53, 62, 69, 81, 91, 97])"
      ]
     },
     "execution_count": 166,
     "metadata": {},
     "output_type": "execute_result"
    }
   ],
   "source": [
    "a1D.sort()\n",
    "a1D"
   ]
  },
  {
   "cell_type": "code",
   "execution_count": 167,
   "metadata": {},
   "outputs": [
    {
     "data": {
      "text/plain": [
       "array([[ 2, 96,  2, 97, 29, 68, 20, 75, 77, 82],\n",
       "       [ 1, 52, 37, 65, 30, 63, 32, 62, 31, 47],\n",
       "       [42,  6, 99, 52, 59, 43, 71, 27, 68, 98],\n",
       "       [90, 50, 76, 54, 72, 63, 52, 11, 45, 66],\n",
       "       [20, 75,  8, 27, 12, 91, 44, 57, 74, 16],\n",
       "       [48, 26,  8, 26, 44, 34,  3, 89,  5, 62]])"
      ]
     },
     "execution_count": 167,
     "metadata": {},
     "output_type": "execute_result"
    }
   ],
   "source": [
    "a2D = np.random.randint(1,100, (6,10))\n",
    "a2D"
   ]
  },
  {
   "cell_type": "code",
   "execution_count": 168,
   "metadata": {},
   "outputs": [
    {
     "data": {
      "text/plain": [
       "array([[ 2,  2, 20, 29, 68, 75, 77, 82, 96, 97],\n",
       "       [ 1, 30, 31, 32, 37, 47, 52, 62, 63, 65],\n",
       "       [ 6, 27, 42, 43, 52, 59, 68, 71, 98, 99],\n",
       "       [11, 45, 50, 52, 54, 63, 66, 72, 76, 90],\n",
       "       [ 8, 12, 16, 20, 27, 44, 57, 74, 75, 91],\n",
       "       [ 3,  5,  8, 26, 26, 34, 44, 48, 62, 89]])"
      ]
     },
     "execution_count": 168,
     "metadata": {},
     "output_type": "execute_result"
    }
   ],
   "source": [
    "a2D.sort() # Por padrão ordena o maior eixo (nesse caso o eixo 1, linhas)\n",
    "a2D"
   ]
  },
  {
   "cell_type": "code",
   "execution_count": 169,
   "metadata": {},
   "outputs": [
    {
     "data": {
      "text/plain": [
       "array([[ 1,  2,  8, 20, 26, 34, 44, 48, 62, 65],\n",
       "       [ 2,  5, 16, 26, 27, 44, 52, 62, 63, 89],\n",
       "       [ 3, 12, 20, 29, 37, 47, 57, 71, 75, 90],\n",
       "       [ 6, 27, 31, 32, 52, 59, 66, 72, 76, 91],\n",
       "       [ 8, 30, 42, 43, 54, 63, 68, 74, 96, 97],\n",
       "       [11, 45, 50, 52, 68, 75, 77, 82, 98, 99]])"
      ]
     },
     "execution_count": 169,
     "metadata": {},
     "output_type": "execute_result"
    }
   ],
   "source": [
    "a2D.sort(axis=0) # Ordenando pelo eixo 0 (colunas)\n",
    "a2D"
   ]
  },
  {
   "cell_type": "code",
   "execution_count": 170,
   "metadata": {},
   "outputs": [
    {
     "data": {
      "text/plain": [
       "array([[37, 30, 69, 77, 57, 39, 72, 27,  4, 58],\n",
       "       [11, 10, 54, 27, 48, 71, 11, 57, 86, 23],\n",
       "       [25, 12, 36, 24, 51, 79,  4, 90, 53,  4],\n",
       "       [48, 52, 98, 55, 68, 67, 23, 22, 36, 80],\n",
       "       [30, 91, 13, 50, 74, 98, 76, 86, 53, 99],\n",
       "       [ 3, 74,  2, 31, 91,  1, 93, 65, 17, 80]])"
      ]
     },
     "execution_count": 170,
     "metadata": {},
     "output_type": "execute_result"
    }
   ],
   "source": [
    "a2D = np.random.randint(1,100, (6,10))\n",
    "a2D"
   ]
  },
  {
   "cell_type": "code",
   "execution_count": 171,
   "metadata": {},
   "outputs": [
    {
     "data": {
      "text/plain": [
       "array([[ 4, 27, 30, 37, 39, 57, 58, 69, 72, 77],\n",
       "       [10, 11, 11, 23, 27, 48, 54, 57, 71, 86],\n",
       "       [ 4,  4, 12, 24, 25, 36, 51, 53, 79, 90],\n",
       "       [22, 23, 36, 48, 52, 55, 67, 68, 80, 98],\n",
       "       [13, 30, 50, 53, 74, 76, 86, 91, 98, 99],\n",
       "       [ 1,  2,  3, 17, 31, 65, 74, 80, 91, 93]])"
      ]
     },
     "execution_count": 171,
     "metadata": {},
     "output_type": "execute_result"
    }
   ],
   "source": [
    "a2D.sort(axis=1) # Ordenando pelo eixo 1 (linhas)\n",
    "a2D"
   ]
  },
  {
   "cell_type": "markdown",
   "metadata": {},
   "source": [
    "### Transposição de arrays"
   ]
  },
  {
   "cell_type": "code",
   "execution_count": 172,
   "metadata": {},
   "outputs": [
    {
     "data": {
      "text/plain": [
       "array([[1, 2, 3, 4],\n",
       "       [5, 6, 7, 8]])"
      ]
     },
     "execution_count": 172,
     "metadata": {},
     "output_type": "execute_result"
    }
   ],
   "source": [
    "a2D = np.array([[1,2,3,4],[5,6,7,8]])\n",
    "a2D"
   ]
  },
  {
   "cell_type": "code",
   "execution_count": 173,
   "metadata": {},
   "outputs": [
    {
     "data": {
      "text/plain": [
       "array([[1, 5],\n",
       "       [2, 6],\n",
       "       [3, 7],\n",
       "       [4, 8]])"
      ]
     },
     "execution_count": 173,
     "metadata": {},
     "output_type": "execute_result"
    }
   ],
   "source": [
    "a2DT = a2D.T # Retorna a transposta\n",
    "a2DT"
   ]
  },
  {
   "cell_type": "code",
   "execution_count": 174,
   "metadata": {},
   "outputs": [
    {
     "data": {
      "text/plain": [
       "array([[1, 2, 3, 4],\n",
       "       [5, 6, 7, 8]])"
      ]
     },
     "execution_count": 174,
     "metadata": {},
     "output_type": "execute_result"
    }
   ],
   "source": [
    "a2D # a2D original não foi transposto"
   ]
  },
  {
   "cell_type": "code",
   "execution_count": 175,
   "metadata": {},
   "outputs": [
    {
     "data": {
      "text/plain": [
       "array([[1, 5],\n",
       "       [2, 6],\n",
       "       [3, 7],\n",
       "       [4, 8]])"
      ]
     },
     "execution_count": 175,
     "metadata": {},
     "output_type": "execute_result"
    }
   ],
   "source": [
    "a2D.transpose() # Retorna a transposta"
   ]
  },
  {
   "cell_type": "code",
   "execution_count": 176,
   "metadata": {},
   "outputs": [
    {
     "data": {
      "text/plain": [
       "array([[1, 2, 3, 4],\n",
       "       [5, 6, 7, 8]])"
      ]
     },
     "execution_count": 176,
     "metadata": {},
     "output_type": "execute_result"
    }
   ],
   "source": [
    "a2D # a2D original não foi transposto"
   ]
  },
  {
   "cell_type": "markdown",
   "metadata": {},
   "source": [
    "### Mudando o formato de um array - reshape()"
   ]
  },
  {
   "cell_type": "code",
   "execution_count": 177,
   "metadata": {},
   "outputs": [
    {
     "data": {
      "text/plain": [
       "array([ 1,  2,  3,  4,  5,  6,  7,  8,  9, 10, 11, 12, 13, 14, 15, 16, 17,\n",
       "       18, 19, 20, 21, 22, 23, 24])"
      ]
     },
     "execution_count": 177,
     "metadata": {},
     "output_type": "execute_result"
    }
   ],
   "source": [
    "a1D = np.arange(1,25)\n",
    "a1D"
   ]
  },
  {
   "cell_type": "code",
   "execution_count": 178,
   "metadata": {},
   "outputs": [
    {
     "name": "stdout",
     "output_type": "stream",
     "text": [
      "(24,)\n",
      "(2, 12)\n",
      "[[ 1  2  3  4  5  6  7  8  9 10 11 12]\n",
      " [13 14 15 16 17 18 19 20 21 22 23 24]]\n"
     ]
    }
   ],
   "source": [
    "print(a1D.shape)\n",
    "a1D.shape = (2,12)\n",
    "print(a1D.shape)\n",
    "print(a1D)"
   ]
  },
  {
   "cell_type": "code",
   "execution_count": 179,
   "metadata": {},
   "outputs": [
    {
     "data": {
      "text/plain": [
       "array([[ 1,  2,  3,  4,  5,  6],\n",
       "       [ 7,  8,  9, 10, 11, 12],\n",
       "       [13, 14, 15, 16, 17, 18],\n",
       "       [19, 20, 21, 22, 23, 24]])"
      ]
     },
     "execution_count": 179,
     "metadata": {},
     "output_type": "execute_result"
    }
   ],
   "source": [
    "a2D_4x6 = a1D.reshape(4,6)\n",
    "a2D_4x6"
   ]
  },
  {
   "cell_type": "code",
   "execution_count": 180,
   "metadata": {},
   "outputs": [
    {
     "data": {
      "text/plain": [
       "array([[ 1,  2,  3,  4,  5,  6,  7,  8,  9, 10, 11, 12],\n",
       "       [13, 14, 15, 16, 17, 18, 19, 20, 21, 22, 23, 24]])"
      ]
     },
     "execution_count": 180,
     "metadata": {},
     "output_type": "execute_result"
    }
   ],
   "source": [
    "a1D"
   ]
  },
  {
   "cell_type": "code",
   "execution_count": 181,
   "metadata": {},
   "outputs": [
    {
     "data": {
      "text/plain": [
       "array([[ 1,  2,  3,  4,  5,  6,  7,  8],\n",
       "       [ 9, 10, 11, 12, 13, 14, 15, 16],\n",
       "       [17, 18, 19, 20, 21, 22, 23, 24]])"
      ]
     },
     "execution_count": 181,
     "metadata": {},
     "output_type": "execute_result"
    }
   ],
   "source": [
    "a2D_3x8 = a1D.reshape(3,8)\n",
    "a2D_3x8"
   ]
  },
  {
   "cell_type": "markdown",
   "metadata": {},
   "source": [
    "### Linearização de um array"
   ]
  },
  {
   "cell_type": "code",
   "execution_count": 182,
   "metadata": {},
   "outputs": [
    {
     "data": {
      "text/plain": [
       "array([ 1,  2,  3,  4,  5,  6,  7,  8,  9, 10, 11, 12, 13, 14, 15, 16, 17,\n",
       "       18, 19, 20, 21, 22, 23, 24])"
      ]
     },
     "execution_count": 182,
     "metadata": {},
     "output_type": "execute_result"
    }
   ],
   "source": [
    "x = a2D_3x8.flatten()\n",
    "x"
   ]
  },
  {
   "cell_type": "code",
   "execution_count": 183,
   "metadata": {},
   "outputs": [
    {
     "data": {
      "text/plain": [
       "array([ 1,  2,  3,  4,  5,  6,  7,  8,  9, 10, 11, 12, 13, 14, 15, 16, 17,\n",
       "       18, 19, 20, 21, 22, 23, 24])"
      ]
     },
     "execution_count": 183,
     "metadata": {},
     "output_type": "execute_result"
    }
   ],
   "source": [
    "y = a2D_3x8.ravel()\n",
    "y"
   ]
  },
  {
   "cell_type": "markdown",
   "metadata": {},
   "source": [
    "### Combinando/concatenando arrays"
   ]
  },
  {
   "cell_type": "code",
   "execution_count": 184,
   "metadata": {},
   "outputs": [
    {
     "data": {
      "text/plain": [
       "array([[ 79,  85,  65,   6,  25,  39,  80, 100,  95],\n",
       "       [ 24,  30,  67,  95,  71,  13,  58,  67,  70],\n",
       "       [ 28,   5,  44,  55,  53,  66,  69,  50,  31]])"
      ]
     },
     "execution_count": 184,
     "metadata": {},
     "output_type": "execute_result"
    }
   ],
   "source": [
    "a2D = np.random.randint(1,101,(3,9))\n",
    "a2D"
   ]
  },
  {
   "cell_type": "code",
   "execution_count": 185,
   "metadata": {},
   "outputs": [
    {
     "data": {
      "text/plain": [
       "array([[64, 43, 39, 11, 65, 55, 92, 99, 83],\n",
       "       [90, 22, 95, 83, 14, 79, 31, 43, 15],\n",
       "       [98, 17, 35, 12, 59, 54, 92, 83, 63],\n",
       "       [46,  9, 39, 36,  7, 82,  9, 12, 98],\n",
       "       [83, 80, 71, 19, 33, 70, 40, 10, 83]])"
      ]
     },
     "execution_count": 185,
     "metadata": {},
     "output_type": "execute_result"
    }
   ],
   "source": [
    "b2D = np.random.randint(1,101,(5,9))\n",
    "b2D"
   ]
  },
  {
   "cell_type": "code",
   "execution_count": 186,
   "metadata": {},
   "outputs": [
    {
     "data": {
      "text/plain": [
       "array([[ 27, 100,  69,  34],\n",
       "       [ 41,   8,  11,  22],\n",
       "       [ 22,  24,  20,  36],\n",
       "       [ 98,  60,  46,  85],\n",
       "       [ 67,  81,  81,  63]])"
      ]
     },
     "execution_count": 186,
     "metadata": {},
     "output_type": "execute_result"
    }
   ],
   "source": [
    "c2D = np.random.randint(1,101,(5,4))\n",
    "c2D"
   ]
  },
  {
   "cell_type": "code",
   "execution_count": 187,
   "metadata": {},
   "outputs": [
    {
     "data": {
      "text/plain": [
       "'Python & Numpy'"
      ]
     },
     "execution_count": 187,
     "metadata": {},
     "output_type": "execute_result"
    }
   ],
   "source": [
    "# Concatenação de strings usa o operador \"+\"\n",
    "str1 = \"Python\"\n",
    "str2 = \" & \"\n",
    "str3 = \"Numpy\"\n",
    "str4 = str1 + str2 + str3\n",
    "str4"
   ]
  },
  {
   "cell_type": "code",
   "execution_count": 189,
   "metadata": {},
   "outputs": [
    {
     "ename": "ValueError",
     "evalue": "operands could not be broadcast together with shapes (3,9) (5,9) ",
     "output_type": "error",
     "traceback": [
      "\u001b[1;31m---------------------------------------------------------------------------\u001b[0m",
      "\u001b[1;31mValueError\u001b[0m                                Traceback (most recent call last)",
      "\u001b[1;32m~\\AppData\\Local\\Temp/ipykernel_9576/825483875.py\u001b[0m in \u001b[0;36m<module>\u001b[1;34m\u001b[0m\n\u001b[0;32m      1\u001b[0m \u001b[1;31m# O operador \"+\" aplicado a ndarrays não faz a concatenação, mas tentar somar elemento a elemento\u001b[0m\u001b[1;33m\u001b[0m\u001b[1;33m\u001b[0m\u001b[0m\n\u001b[1;32m----> 2\u001b[1;33m \u001b[0ma2D\u001b[0m \u001b[1;33m+\u001b[0m \u001b[0mb2D\u001b[0m\u001b[1;33m\u001b[0m\u001b[1;33m\u001b[0m\u001b[0m\n\u001b[0m",
      "\u001b[1;31mValueError\u001b[0m: operands could not be broadcast together with shapes (3,9) (5,9) "
     ]
    }
   ],
   "source": [
    "# O operador \"+\" aplicado a ndarrays não faz a concatenação, mas tentar somar elemento a elemento\n",
    "a2D + b2D"
   ]
  },
  {
   "cell_type": "code",
   "execution_count": 190,
   "metadata": {},
   "outputs": [
    {
     "name": "stdout",
     "output_type": "stream",
     "text": [
      "a2D\n",
      "[[ 79  85  65   6  25  39  80 100  95]\n",
      " [ 24  30  67  95  71  13  58  67  70]\n",
      " [ 28   5  44  55  53  66  69  50  31]]\n",
      "\n",
      "b2D\n",
      "[[64 43 39 11 65 55 92 99 83]\n",
      " [90 22 95 83 14 79 31 43 15]\n",
      " [98 17 35 12 59 54 92 83 63]\n",
      " [46  9 39 36  7 82  9 12 98]\n",
      " [83 80 71 19 33 70 40 10 83]]\n",
      "\n",
      "Concatenação\n",
      "[[ 79  85  65   6  25  39  80 100  95]\n",
      " [ 24  30  67  95  71  13  58  67  70]\n",
      " [ 28   5  44  55  53  66  69  50  31]\n",
      " [ 64  43  39  11  65  55  92  99  83]\n",
      " [ 90  22  95  83  14  79  31  43  15]\n",
      " [ 98  17  35  12  59  54  92  83  63]\n",
      " [ 46   9  39  36   7  82   9  12  98]\n",
      " [ 83  80  71  19  33  70  40  10  83]]\n"
     ]
    }
   ],
   "source": [
    "A = np.concatenate((a2D, b2D), axis = 0) # Concatenando pelo eixo das colunas (eixo 0) (empilhamento vertical) \n",
    "print(\"a2D\")\n",
    "print(a2D)\n",
    "print(\"\")\n",
    "print(\"b2D\")\n",
    "print(b2D)\n",
    "print(\"\")\n",
    "print(\"Concatenação\")\n",
    "print(A)"
   ]
  },
  {
   "cell_type": "code",
   "execution_count": 191,
   "metadata": {},
   "outputs": [
    {
     "name": "stdout",
     "output_type": "stream",
     "text": [
      "a2D\n",
      "[[ 79  85  65   6  25  39  80 100  95]\n",
      " [ 24  30  67  95  71  13  58  67  70]\n",
      " [ 28   5  44  55  53  66  69  50  31]]\n",
      "\n",
      "b2D\n",
      "[[64 43 39 11 65 55 92 99 83]\n",
      " [90 22 95 83 14 79 31 43 15]\n",
      " [98 17 35 12 59 54 92 83 63]\n",
      " [46  9 39 36  7 82  9 12 98]\n",
      " [83 80 71 19 33 70 40 10 83]]\n",
      "\n",
      "Concatenação\n",
      "[[ 79  85  65   6  25  39  80 100  95]\n",
      " [ 24  30  67  95  71  13  58  67  70]\n",
      " [ 28   5  44  55  53  66  69  50  31]\n",
      " [ 64  43  39  11  65  55  92  99  83]\n",
      " [ 90  22  95  83  14  79  31  43  15]\n",
      " [ 98  17  35  12  59  54  92  83  63]\n",
      " [ 46   9  39  36   7  82   9  12  98]\n",
      " [ 83  80  71  19  33  70  40  10  83]]\n"
     ]
    }
   ],
   "source": [
    "B = np.vstack((a2D, b2D)) # Concatenando pelo eixo das colunas (eixo 0) (empilhamento vertical) \n",
    "print(\"a2D\")\n",
    "print(a2D)\n",
    "print(\"\")\n",
    "print(\"b2D\")\n",
    "print(b2D)\n",
    "print(\"\")\n",
    "print(\"Concatenação\")\n",
    "print(B)"
   ]
  },
  {
   "cell_type": "code",
   "execution_count": 192,
   "metadata": {},
   "outputs": [
    {
     "name": "stdout",
     "output_type": "stream",
     "text": [
      "b2D\n",
      "[[64 43 39 11 65 55 92 99 83]\n",
      " [90 22 95 83 14 79 31 43 15]\n",
      " [98 17 35 12 59 54 92 83 63]\n",
      " [46  9 39 36  7 82  9 12 98]\n",
      " [83 80 71 19 33 70 40 10 83]]\n",
      "\n",
      "c2D\n",
      "[[ 27 100  69  34]\n",
      " [ 41   8  11  22]\n",
      " [ 22  24  20  36]\n",
      " [ 98  60  46  85]\n",
      " [ 67  81  81  63]]\n",
      "\n",
      "Concatenação\n",
      "[[ 64  43  39  11  65  55  92  99  83  27 100  69  34]\n",
      " [ 90  22  95  83  14  79  31  43  15  41   8  11  22]\n",
      " [ 98  17  35  12  59  54  92  83  63  22  24  20  36]\n",
      " [ 46   9  39  36   7  82   9  12  98  98  60  46  85]\n",
      " [ 83  80  71  19  33  70  40  10  83  67  81  81  63]]\n"
     ]
    }
   ],
   "source": [
    "C = np.concatenate((b2D, c2D), axis = 1) # Concatenando pelo eixo das linhas (eixo 1) (empilhamento horizontal) \n",
    "print(\"b2D\")\n",
    "print(b2D)\n",
    "print(\"\")\n",
    "print(\"c2D\")\n",
    "print(c2D)\n",
    "print(\"\")\n",
    "print(\"Concatenação\")\n",
    "print(C)"
   ]
  },
  {
   "cell_type": "code",
   "execution_count": 193,
   "metadata": {},
   "outputs": [
    {
     "name": "stdout",
     "output_type": "stream",
     "text": [
      "b2D\n",
      "[[64 43 39 11 65 55 92 99 83]\n",
      " [90 22 95 83 14 79 31 43 15]\n",
      " [98 17 35 12 59 54 92 83 63]\n",
      " [46  9 39 36  7 82  9 12 98]\n",
      " [83 80 71 19 33 70 40 10 83]]\n",
      "\n",
      "c2D\n",
      "[[ 27 100  69  34]\n",
      " [ 41   8  11  22]\n",
      " [ 22  24  20  36]\n",
      " [ 98  60  46  85]\n",
      " [ 67  81  81  63]]\n",
      "\n",
      "Concatenação\n",
      "[[ 64  43  39  11  65  55  92  99  83  27 100  69  34]\n",
      " [ 90  22  95  83  14  79  31  43  15  41   8  11  22]\n",
      " [ 98  17  35  12  59  54  92  83  63  22  24  20  36]\n",
      " [ 46   9  39  36   7  82   9  12  98  98  60  46  85]\n",
      " [ 83  80  71  19  33  70  40  10  83  67  81  81  63]]\n"
     ]
    }
   ],
   "source": [
    "D = np.hstack((b2D, c2D)) # Concatenando pelo eixo das linhas (eixo 1) (empilhamento horizontal) \n",
    "print(\"b2D\")\n",
    "print(b2D)\n",
    "print(\"\")\n",
    "print(\"c2D\")\n",
    "print(c2D)\n",
    "print(\"\")\n",
    "print(\"Concatenação\")\n",
    "print(D)"
   ]
  },
  {
   "cell_type": "markdown",
   "metadata": {},
   "source": [
    "### Dividindo arrays"
   ]
  },
  {
   "cell_type": "code",
   "execution_count": 194,
   "metadata": {},
   "outputs": [
    {
     "name": "stdout",
     "output_type": "stream",
     "text": [
      "Array original\n",
      "[[ 79  85  65   6  25  39  80 100  95]\n",
      " [ 24  30  67  95  71  13  58  67  70]\n",
      " [ 28   5  44  55  53  66  69  50  31]\n",
      " [ 64  43  39  11  65  55  92  99  83]\n",
      " [ 90  22  95  83  14  79  31  43  15]\n",
      " [ 98  17  35  12  59  54  92  83  63]\n",
      " [ 46   9  39  36   7  82   9  12  98]\n",
      " [ 83  80  71  19  33  70  40  10  83]]\n",
      "\n",
      "1a parte\n",
      "[[ 79  85  65   6  25  39  80 100  95]\n",
      " [ 24  30  67  95  71  13  58  67  70]\n",
      " [ 28   5  44  55  53  66  69  50  31]\n",
      " [ 64  43  39  11  65  55  92  99  83]]\n",
      "\n",
      "2a parte\n",
      "[[90 22 95 83 14 79 31 43 15]\n",
      " [98 17 35 12 59 54 92 83 63]\n",
      " [46  9 39 36  7 82  9 12 98]\n",
      " [83 80 71 19 33 70 40 10 83]]\n"
     ]
    }
   ],
   "source": [
    "A_splitted = np.vsplit(A,2) # Divisáo vertical (corta no sentido das colunas)\n",
    "print(\"Array original\")\n",
    "print(A)\n",
    "print(\"\")\n",
    "print(\"1a parte\")\n",
    "print(A_splitted[0])\n",
    "print(\"\")\n",
    "print(\"2a parte\")\n",
    "print(A_splitted[1])"
   ]
  },
  {
   "cell_type": "code",
   "execution_count": 195,
   "metadata": {},
   "outputs": [
    {
     "name": "stdout",
     "output_type": "stream",
     "text": [
      "Array original\n",
      "[[ 79  85  65   6  25  39  80 100  95]\n",
      " [ 24  30  67  95  71  13  58  67  70]\n",
      " [ 28   5  44  55  53  66  69  50  31]\n",
      " [ 64  43  39  11  65  55  92  99  83]\n",
      " [ 90  22  95  83  14  79  31  43  15]\n",
      " [ 98  17  35  12  59  54  92  83  63]\n",
      " [ 46   9  39  36   7  82   9  12  98]\n",
      " [ 83  80  71  19  33  70  40  10  83]]\n",
      "\n",
      "1a parte\n",
      "[[79 85 65]\n",
      " [24 30 67]\n",
      " [28  5 44]\n",
      " [64 43 39]\n",
      " [90 22 95]\n",
      " [98 17 35]\n",
      " [46  9 39]\n",
      " [83 80 71]]\n",
      "\n",
      "2a parte\n",
      "[[ 6 25 39]\n",
      " [95 71 13]\n",
      " [55 53 66]\n",
      " [11 65 55]\n",
      " [83 14 79]\n",
      " [12 59 54]\n",
      " [36  7 82]\n",
      " [19 33 70]]\n",
      "\n",
      "3a parte\n",
      "[[ 80 100  95]\n",
      " [ 58  67  70]\n",
      " [ 69  50  31]\n",
      " [ 92  99  83]\n",
      " [ 31  43  15]\n",
      " [ 92  83  63]\n",
      " [  9  12  98]\n",
      " [ 40  10  83]]\n"
     ]
    }
   ],
   "source": [
    "A_splitted3 = np.hsplit(A,3) # Divisão horizontal (corta no sentido das linhas)\n",
    "print(\"Array original\")\n",
    "print(A)\n",
    "print(\"\")\n",
    "print(\"1a parte\")\n",
    "print(A_splitted3[0])\n",
    "print(\"\")\n",
    "print(\"2a parte\")\n",
    "print(A_splitted3[1])\n",
    "print(\"\")\n",
    "print(\"3a parte\")\n",
    "print(A_splitted3[2])"
   ]
  },
  {
   "cell_type": "code",
   "execution_count": null,
   "metadata": {},
   "outputs": [],
   "source": []
  }
 ],
 "metadata": {
  "kernelspec": {
   "display_name": "Python 3 (ipykernel)",
   "language": "python",
   "name": "python3"
  },
  "language_info": {
   "codemirror_mode": {
    "name": "ipython",
    "version": 3
   },
   "file_extension": ".py",
   "mimetype": "text/x-python",
   "name": "python",
   "nbconvert_exporter": "python",
   "pygments_lexer": "ipython3",
   "version": "3.9.7"
  }
 },
 "nbformat": 4,
 "nbformat_minor": 2
}
